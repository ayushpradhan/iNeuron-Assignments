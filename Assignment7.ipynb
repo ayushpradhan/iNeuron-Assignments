{
 "cells": [
  {
   "cell_type": "markdown",
   "id": "47417652",
   "metadata": {},
   "source": [
    "Q.1. Create two int type variables, apply addition, subtraction, division and multiplications\n",
    "\n",
    "and store the results in variables. Then print the data in the following format by calling the\n",
    "\n",
    "variables:\n",
    "\n",
    "First variable is __ & second variable is __.\n",
    "\n",
    "Addition: __ + __ = __\n",
    "\n",
    "Subtraction: __ - __ = __\n",
    "\n",
    "Multiplication: __ * __ = __\n",
    "\n",
    "Division: __ / __ = __"
   ]
  },
  {
   "cell_type": "code",
   "execution_count": 17,
   "id": "916f5536",
   "metadata": {},
   "outputs": [
    {
     "name": "stdout",
     "output_type": "stream",
     "text": [
      "First variable is 10 & second variable is 5\n",
      "Addition: 10 + 5 = 15\n",
      "Subtraction: 10 - 5 = 5\n",
      "Multiplication: 10 * 5 = 50\n",
      "Division: 10 / 5 = 2.0\n"
     ]
    }
   ],
   "source": [
    "a=10\n",
    "b=5\n",
    "print(\"First variable is\" , a , \"& second variable is\", b)\n",
    "print(\"Addition:\",a,\"+\",b,\"=\",a+b)\n",
    "print(\"Subtraction:\",a,\"-\",b,\"=\",a-b)\n",
    "print(\"Multiplication:\",a,\"*\",b,\"=\",a*b)\n",
    "print(\"Division:\",a,\"/\",b,\"=\",a/b)"
   ]
  },
  {
   "cell_type": "markdown",
   "id": "f516e52a",
   "metadata": {},
   "source": [
    "Q.2. What is the difference between the following operators:\n",
    "\n",
    "\n",
    "(i) ‘/’ & ‘//’\n",
    "\n",
    "\n",
    "(ii) ‘**’ & ‘^’\n",
    "\n",
    "\n",
    "Ans\n",
    "\n",
    "(i)'/' is division operator and returns a floating point quotient while \n",
    "\n",
    "'//' is floor division operator and It returns the largest integer that is less than or equal to the quotient. For example, 7 // 2\n",
    "\n",
    "evaluates to 3 because it discards the decimal part of the division result.\n"
   ]
  },
  {
   "cell_type": "code",
   "execution_count": 18,
   "id": "4a5cd485",
   "metadata": {},
   "outputs": [
    {
     "data": {
      "text/plain": [
       "3.5"
      ]
     },
     "execution_count": 18,
     "metadata": {},
     "output_type": "execute_result"
    }
   ],
   "source": [
    "7/2"
   ]
  },
  {
   "cell_type": "code",
   "execution_count": 19,
   "id": "841bd6d2",
   "metadata": {},
   "outputs": [
    {
     "data": {
      "text/plain": [
       "3"
      ]
     },
     "execution_count": 19,
     "metadata": {},
     "output_type": "execute_result"
    }
   ],
   "source": [
    "7//2"
   ]
  },
  {
   "cell_type": "raw",
   "id": "5611fe4d",
   "metadata": {},
   "source": [
    "(ii) '**' this is exponential operator.It raises the left operand to the power of the right operand. For example, 2 ** 2 evaluates to 4."
   ]
  },
  {
   "cell_type": "code",
   "execution_count": 20,
   "id": "b35e3b53",
   "metadata": {},
   "outputs": [
    {
     "data": {
      "text/plain": [
       "4"
      ]
     },
     "execution_count": 20,
     "metadata": {},
     "output_type": "execute_result"
    }
   ],
   "source": [
    "2**2"
   ]
  },
  {
   "cell_type": "markdown",
   "id": "c88ad216",
   "metadata": {},
   "source": [
    "The '^' operator, on the other hand, is the bitwise XOR operator."
   ]
  },
  {
   "cell_type": "markdown",
   "id": "8bb3c305",
   "metadata": {},
   "source": [
    "Q.3. List the logical operators.\n",
    "\n",
    "Ans.\n",
    "\n",
    "The three logical operators are\n",
    "\n",
    "i) and- The 'and' operator returns True if both operands are True, and False otherwise. It performs a logical AND operation.  \n",
    "\n",
    "ii) or-The 'or' operator returns True if at least one of the operands is True, and False otherwise. It performs a logical OR \n",
    "\n",
    "operation.\n",
    "\n",
    "iii) not-The 'not' operator returns the opposite boolean value of the operand. If the operand is True, it returns False, and if the\n",
    "\n",
    "operand is False, it returns True."
   ]
  },
  {
   "cell_type": "markdown",
   "id": "f8a924d2",
   "metadata": {},
   "source": [
    "Q.4. Explain right shift operator and left shift operator with examples.\n",
    "\n",
    "Ans.\n",
    "\n",
    "Right Shift Operator (>>):\n",
    "\n",
    "The right shift operator (>>) shifts the bits of a number to the right by a specified number of positions. It effectively divides \n",
    "\n",
    "the number by 2 raised to the power of the specified shift value."
   ]
  },
  {
   "cell_type": "code",
   "execution_count": 22,
   "id": "488ee518",
   "metadata": {},
   "outputs": [
    {
     "name": "stdout",
     "output_type": "stream",
     "text": [
      "2\n"
     ]
    }
   ],
   "source": [
    "x=10\n",
    "y=x>>2\n",
    "print(y)"
   ]
  },
  {
   "cell_type": "markdown",
   "id": "1230cf55",
   "metadata": {},
   "source": [
    "In the example above, the value of x is 10 in binary (1010), and x >> 2 shifts the bits of x two positions to the right. As a result, \n",
    "\n",
    "the binary representation becomes 0010, which is equivalent to the decimal value 2.\n",
    "\n",
    "Left Shift Operator (<<):\n",
    "\n",
    "The left shift operator (<<) shifts the bits of a number to the left by a specified number of positions. It effectively multiplies \n",
    "\n",
    "the number by 2 raised to the power of the specified shift value."
   ]
  },
  {
   "cell_type": "code",
   "execution_count": 23,
   "id": "bbeac0fb",
   "metadata": {},
   "outputs": [
    {
     "name": "stdout",
     "output_type": "stream",
     "text": [
      "40\n"
     ]
    }
   ],
   "source": [
    "x=5\n",
    "y=x<<3\n",
    "print(y)"
   ]
  },
  {
   "cell_type": "markdown",
   "id": "b64f6bfa",
   "metadata": {},
   "source": [
    "In the example above, the value of x is 5 in binary (0101), and x << 3 shifts the bits of x three positions to the left. As a result, \n",
    "\n",
    "the binary representation becomes 0101000, which is equivalent to the decimal value 40."
   ]
  },
  {
   "cell_type": "markdown",
   "id": "8f6f8878",
   "metadata": {},
   "source": [
    "Q.5. Create a list containing int type data of length 15. Then write a code to check if 10 is\n",
    "\n",
    "present in the list or not."
   ]
  },
  {
   "cell_type": "code",
   "execution_count": 31,
   "id": "03f36c10",
   "metadata": {},
   "outputs": [
    {
     "name": "stdout",
     "output_type": "stream",
     "text": [
      "10 is present\n"
     ]
    }
   ],
   "source": [
    "a=[1,2,3,4,5,6,7,8,9,10,11,12,13,14,15]\n",
    "if 10 in a:\n",
    "    print (\"10 is present\")\n",
    "else:\n",
    "    print(\"10 is not present\")"
   ]
  }
 ],
 "metadata": {
  "kernelspec": {
   "display_name": "Python 3 (ipykernel)",
   "language": "python",
   "name": "python3"
  },
  "language_info": {
   "codemirror_mode": {
    "name": "ipython",
    "version": 3
   },
   "file_extension": ".py",
   "mimetype": "text/x-python",
   "name": "python",
   "nbconvert_exporter": "python",
   "pygments_lexer": "ipython3",
   "version": "3.10.9"
  }
 },
 "nbformat": 4,
 "nbformat_minor": 5
}
