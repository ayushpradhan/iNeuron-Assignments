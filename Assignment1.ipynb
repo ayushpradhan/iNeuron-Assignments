{
 "cells": [
  {
   "cell_type": "markdown",
   "id": "3f83b064",
   "metadata": {},
   "source": [
    "Q.1 In the below elements which of them are values or expression?\n",
    "\n",
    "1 \"Hello\"=String\n",
    "\n",
    "2 87.8=float value\n",
    "\n",
    "3 - subtraction operator\n",
    "\n",
    "4 + addition operator\n",
    "\n",
    "5 6 integer value\n",
    "\n",
    "Q.2 What is the difference between string and variable?\n",
    "\n",
    "Ans. A string is a series of characters enclosed in single or double quotes.\n",
    "It is a data type that we want to store at a particular memory location.\n",
    "On the other hand a variable is reserved memory location to store values.\n",
    "\n",
    "Q.3 Describe three different data types.\n",
    "\n",
    "Ans. 1.Numeric data type- Int,float,complex\n",
    "Int- It is a whole no which is positive or negative without decimals an it can have unlimitid length.\n",
    "eg x=1 \n",
    "\n",
    "Float-It is a decimal no which can be positive or negative.\n",
    "eg x=1.5\n",
    "\n",
    "Complex-It consists of a real part and an imaginary part denoted by j. \n",
    "eg x=5+7j\n",
    " \n",
    "2.Text data type- String\n",
    "String is a series of characters enclosed in single or double quotes.\n",
    "eg a=\"Github\"\n",
    "\n",
    "3.Lists-They are used to store collection of data. List items are ordered,mutable and allow duplicate values.\n",
    "\n",
    "List items can be of any data type.They are enclosed between square brackets [].\n",
    "\n",
    "eg. a=[1,2,5,\"Sam\"]\n",
    "\n",
    "\n",
    "Q.4 What is an expression made up of? What do all expressions do?\n",
    "\n",
    "Ans.A combination of operands and operators is called an expression.The expression in Python produces some value or result after being interpreted by the Python interpreter.For eg x=x+4\n",
    "In this expression first 4 is added to the variable x. After the addition is performed, the result is assigned to the variable x.\n",
    "\n",
    "Q.5 What is the difference between an expression and a statement?\n",
    "\n",
    "Ans.Expressions can be assigned or used as operands, while statements can only be declared.\n",
    "\n",
    "for eg a=5 is a statement.\n",
    "\n",
    "a=a+1 is an expression.\n",
    "\n",
    "Expressions always returns a value while a statement never returns a value.\n",
    "\n",
    "Functions are also expressions. Even a non returning function will still return None value, so it is an expression.\n",
    "\n",
    "Expressions can print a result while a statement cannot print any result."
   ]
  },
  {
   "cell_type": "code",
   "execution_count": 1,
   "id": "966790e5",
   "metadata": {},
   "outputs": [
    {
     "data": {
      "text/plain": [
       "23"
      ]
     },
     "execution_count": 1,
     "metadata": {},
     "output_type": "execute_result"
    }
   ],
   "source": [
    "# Q.6 After running the following code, what does the variable bacon contain?\n",
    "bacon = 22\n",
    "bacon + 1"
   ]
  },
  {
   "cell_type": "code",
   "execution_count": 5,
   "id": "a32a226e",
   "metadata": {},
   "outputs": [
    {
     "name": "stdout",
     "output_type": "stream",
     "text": [
      "spamspamspam\n",
      "spamspamspam\n"
     ]
    }
   ],
   "source": [
    "#Q.7 What should the values of the following two terms be?\n",
    "a='spam'+'spamspam'\n",
    "b='spam'*3\n",
    "print(a)\n",
    "print(b)\n"
   ]
  },
  {
   "cell_type": "markdown",
   "id": "fb5adb58",
   "metadata": {},
   "source": [
    "Q.8 Why is eggs a valid variable name while 100 is invalid?\n",
    "\n",
    "Ans.Rules for python variables.\n",
    "\n",
    "A variable name must start with a letter or the underscore character\n",
    "\n",
    "A variable name cannot start with a number\n",
    "\n",
    "A variable name can only contain alpha-numeric characters and underscores (A-z, 0-9, and _ )\n",
    "\n",
    "Variable names are case-sensitive (age, Age and AGE are three different variables)\n",
    "\n",
    "A variable name cannot be any of the Python keywords.\n",
    "\n",
    "This is why eggs is a valid variable name while 100 is invalid.\n",
    "\n",
    "Q.9 What three functions can be used to get the integer, floating-point number, or string version of a value?\n",
    "\n",
    "Ans.In Python, you can use the following functions to get the integer, floating-point number, or string version of a value:\n",
    "\n",
    "int() function returns the integer version of a value.\n",
    "\n",
    "float() function returns the floating-point number version of a value.\n",
    "\n",
    "str() function returns the string version of a value.\n",
    "\n",
    "for eg:"
   ]
  },
  {
   "cell_type": "code",
   "execution_count": 10,
   "id": "95ad464f",
   "metadata": {},
   "outputs": [
    {
     "name": "stdout",
     "output_type": "stream",
     "text": [
      "2\n",
      "2.0\n",
      "2\n"
     ]
    }
   ],
   "source": [
    "x = 2\n",
    "y = 2.14\n",
    "print(int(y))    \n",
    "print(float(x))  \n",
    "print(str(x))"
   ]
  },
  {
   "cell_type": "code",
   "execution_count": 6,
   "id": "b22ca3aa",
   "metadata": {},
   "outputs": [
    {
     "ename": "TypeError",
     "evalue": "can only concatenate str (not \"int\") to str",
     "output_type": "error",
     "traceback": [
      "\u001b[1;31m---------------------------------------------------------------------------\u001b[0m",
      "\u001b[1;31mTypeError\u001b[0m                                 Traceback (most recent call last)",
      "Cell \u001b[1;32mIn[6], line 2\u001b[0m\n\u001b[0;32m      1\u001b[0m \u001b[38;5;66;03m# Q.10 Why does this expression cause an error? How can you fix it?\u001b[39;00m\n\u001b[1;32m----> 2\u001b[0m a\u001b[38;5;241m=\u001b[39m\u001b[38;5;124;43m'\u001b[39;49m\u001b[38;5;124;43mI have eaten \u001b[39;49m\u001b[38;5;124;43m'\u001b[39;49m\u001b[43m \u001b[49m\u001b[38;5;241;43m+\u001b[39;49m\u001b[43m \u001b[49m\u001b[38;5;241;43m99\u001b[39;49m \u001b[38;5;241m+\u001b[39m \u001b[38;5;124m'\u001b[39m\u001b[38;5;124m burritos.\u001b[39m\u001b[38;5;124m'\u001b[39m\n",
      "\u001b[1;31mTypeError\u001b[0m: can only concatenate str (not \"int\") to str"
     ]
    }
   ],
   "source": [
    "# Q.10 Why does this expression cause an error? How can you fix it?\n",
    "a='I have eaten ' + 99 + ' burritos.'\n",
    "\n"
   ]
  },
  {
   "cell_type": "code",
   "execution_count": 7,
   "id": "19bdc22c",
   "metadata": {},
   "outputs": [],
   "source": [
    "''' Ans. The error is due to the fact that we are joining or concatenating integer variable to the string variable\n",
    "Normally, string concatenation is done in Python using the + operator.\n",
    "However, when working with integers, the + represents addition. Because of this, Python will raise a TypeError,when the program is run.\n",
    "Fix'''\n",
    "a='I have eaten ' + '99' + ' burritos.'\n",
    "\n",
    "# Now python interpretor will read 99 as a string.\n",
    "\n"
   ]
  }
 ],
 "metadata": {
  "kernelspec": {
   "display_name": "Python 3 (ipykernel)",
   "language": "python",
   "name": "python3"
  },
  "language_info": {
   "codemirror_mode": {
    "name": "ipython",
    "version": 3
   },
   "file_extension": ".py",
   "mimetype": "text/x-python",
   "name": "python",
   "nbconvert_exporter": "python",
   "pygments_lexer": "ipython3",
   "version": "3.10.9"
  }
 },
 "nbformat": 4,
 "nbformat_minor": 5
}
