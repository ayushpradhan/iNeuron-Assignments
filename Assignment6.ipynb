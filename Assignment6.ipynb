{
 "cells": [
  {
   "cell_type": "markdown",
   "id": "da38d1ad",
   "metadata": {},
   "source": [
    "Q.1. What are keywords in python? Using the keyword library, print all the python keywords.\n",
    "\n",
    "Ans.\n",
    "\n",
    "In Python, keywords are reserved words that have special meanings and purposes within the language. These keywords are part of the Python syntax and cannot be used as identifiers (such as variable names or function names) in your code.\n",
    "\n",
    "To access the list of Python keywords, we can use the keyword library.\n"
   ]
  },
  {
   "cell_type": "code",
   "execution_count": 1,
   "id": "a677b9dd",
   "metadata": {},
   "outputs": [
    {
     "name": "stdout",
     "output_type": "stream",
     "text": [
      "['False', 'None', 'True', 'and', 'as', 'assert', 'async', 'await', 'break', 'class', 'continue', 'def', 'del', 'elif', 'else', 'except', 'finally', 'for', 'from', 'global', 'if', 'import', 'in', 'is', 'lambda', 'nonlocal', 'not', 'or', 'pass', 'raise', 'return', 'try', 'while', 'with', 'yield']\n"
     ]
    }
   ],
   "source": [
    "import keyword\n",
    "\n",
    "all_keywords = keyword.kwlist\n",
    "print(all_keywords)"
   ]
  },
  {
   "cell_type": "markdown",
   "id": "e057915b",
   "metadata": {},
   "source": [
    "Q.2. What are the rules to create variables in python?\n",
    "\n",
    "Ans.\n",
    "\n",
    "In Python, variables are used to store data and give them a name for easy reference. To create variables in Python, you need to follow a few rules:\n",
    "\n",
    ".Variable names must start with a letter (a-z, A-Z) or an underscore (_). They cannot start with a number.\n",
    "\n",
    ".For example: name, _count, total_score\n",
    "\n",
    ".Variable names can contain letters (a-z, A-Z), numbers (0-9), and underscores (_).\n",
    "\n",
    " For example: age, student_name, total_score_1\n",
    "\n",
    ".Variable names are case-sensitive. This means that myVariable and myvariable are considered as two different variables.\n",
    "\n",
    ".Python keywords cannot be used as variable names since they have special meanings in the language. For example, you cannot use if, for, while, or print as variable names.\n",
    "\n",
    ".Variable names should be descriptive and meaningful. It's good practice to use variable names that reflect the purpose or content of the data they store. This enhances code readability and understanding.\n",
    "\n",
    ".Avoid using built-in function or module names as variable names to prevent conflicts or confusion.\n"
   ]
  },
  {
   "cell_type": "markdown",
   "id": "9ce76c0b",
   "metadata": {},
   "source": [
    "Q.3. What are the standards and conventions followed for the nomenclature of variables in\n",
    "\n",
    "python to improve code readability and maintainability?\n",
    "\n",
    "Ans.\n",
    "\n",
    "In Python, there are widely accepted standards and conventions for naming variables that help improve code readability and maintainability.Here are some key guidelines:\n",
    "\n",
    "1)Use descriptive and meaningful names: Variable names should accurately reflect the purpose or content of the data they store.\n",
    "\n",
    "This helps make your code more readable and self-explanatory. For example, instead of using single letters like x or y, use descriptive names like age, total_score, or is_valid.\n",
    "\n",
    "2)Follow a consistent naming style: There are two main naming styles in Python:\n",
    "\n",
    "Camel Case: Start with a lowercase letter and capitalize the first letter of each subsequent concatenated word. For example, \n",
    "\n",
    "myVariable, totalScore.\n",
    "\n",
    "Snake Case: Use all lowercase letters and separate words with underscores. For example, my_variable, total_score.\n",
    "\n",
    "It is recommended to use snake case for variable names in Python.\n",
    "\n",
    "3)Avoid using single underscores at the beginning or end of variable names: Leading and trailing underscores have special meanings in Python, so it's best to avoid them in variable names.\n",
    "\n",
    "4)Be consistent with naming conventions: When working on a project, it's important to adhere to the existing naming conventions used in that project. Consistency helps make the codebase more readable and maintainable for all developers involved.\n",
    "\n",
    "5)Use lowercase for built-in functions and module names: To differentiate variable names from built-in functions and module names, it's a convention to use lowercase for them. For example, use 'print()', 'len()', 'math.sqrt()'instead of 'Print()',\n",
    "\n",
    "'LEN()', 'Math.sqrt()'."
   ]
  },
  {
   "cell_type": "markdown",
   "id": "45f22374",
   "metadata": {},
   "source": [
    "Q.4. What will happen if a keyword is used as a variable name?\n",
    "\n",
    "Ans.\n",
    "\n",
    "If a keyword is used as a variable name in a programming language, it will typically result in a syntax error or a compilation error. Keywords are reserved words in a programming language that have predefined meanings and are used to define the structure and logic of the code."
   ]
  },
  {
   "cell_type": "markdown",
   "id": "05e5cdad",
   "metadata": {},
   "source": [
    "Q.5. For what purpose def keyword is used?\n",
    "\n",
    "Ans.\n",
    "def keyword is used to define a function allowing us to encapsulate reusable blocks of code that can be called and executed whenever needed.\n",
    "The syntax is\n",
    "def function_name(parameters):"
   ]
  },
  {
   "cell_type": "markdown",
   "id": "848c9404",
   "metadata": {},
   "source": [
    "Q.6. What is the operation of this special character ‘\\’?\n",
    "\n",
    "Ans.\n",
    "The special character \\ in Python is called the backslash. It is used as an escape character or to create special character sequences known as escape sequences. The backslash is typically followed by another character to form an escape sequence.\n",
    "\n",
    "Escape sequences: The backslash is used to represent special characters within strings. For example:\n",
    "\n",
    "\\n represents a newline character.\n",
    "\\t represents a tab character.\n",
    "\\\" represents a double quote character within a string literal.\n",
    "\\\\ represents a backslash character itself.\n",
    "\n",
    "Escape characters: The backslash is used to escape special characters that have a special meaning in Python. For example, if you want to include a single quote within a string literal enclosed in single quotes, you can use \\' to escape the single quote character.\n",
    "\n",
    "Line continuation: The backslash can be used to continue a long line of code onto the next line. This is useful for improving code readability. For example:"
   ]
  },
  {
   "cell_type": "code",
   "execution_count": 3,
   "id": "0f0dd858",
   "metadata": {},
   "outputs": [
    {
     "name": "stdout",
     "output_type": "stream",
     "text": [
      "This is a worksace and this is the first project and                spans multiple lines for readability.\n"
     ]
    }
   ],
   "source": [
    "long_string = \"This is a worksace and this is the first project and \\\n",
    "               spans multiple lines for readability.\"\n",
    "print(long_string)"
   ]
  },
  {
   "cell_type": "markdown",
   "id": "fbf0ab6e",
   "metadata": {},
   "source": [
    "Q.7. Give an example of the following conditions:\n",
    "\n",
    "(i) Homogeneous list\n",
    "(ii) Heterogeneous set\n",
    "(iii) Homogeneous tuple\n",
    "\n",
    "Ans.\n",
    "(i) Homogeneous list: A homogeneous list is a list that contains elements of the same data type.\n",
    "for eg:"
   ]
  },
  {
   "cell_type": "code",
   "execution_count": null,
   "id": "d1a6f47e",
   "metadata": {},
   "outputs": [],
   "source": [
    "list1=[1,2,3,4,5]"
   ]
  },
  {
   "cell_type": "markdown",
   "id": "e554ce2a",
   "metadata": {},
   "source": [
    "In this example, the list numbers contains integers only, making it a homogeneous list.\n",
    "\n",
    "(ii) Heterogeneous set: A heterogeneous set is a set that can contain elements of different data types.\n",
    "for example:"
   ]
  },
  {
   "cell_type": "code",
   "execution_count": null,
   "id": "3a248692",
   "metadata": {},
   "outputs": [],
   "source": [
    "list1=[1,2,[1,2,3],\"Tom\"]"
   ]
  },
  {
   "cell_type": "markdown",
   "id": "786b5c43",
   "metadata": {},
   "source": [
    "(iii) Homogeneous tuple: A homogeneous tuple is a tuple that contains elements of the same data type.\n",
    "for example:"
   ]
  },
  {
   "cell_type": "code",
   "execution_count": null,
   "id": "17bce0b6",
   "metadata": {},
   "outputs": [],
   "source": [
    "city=(\"Delhi\",\"Jaipur\",\"Bangalore\")"
   ]
  },
  {
   "cell_type": "markdown",
   "id": "7cb468bf",
   "metadata": {},
   "source": [
    "Q.8. Explain the mutable and immutable data types with proper explanation & examples.\n",
    "\n",
    "Ans.\n",
    "Immutable data types are those whose values cannot be modified once they are assigned. Whenever an operation is performed on an immutable object, a new object is created with the updated value.Following are Immutable data types.\n",
    "1)Numbers (int, float, complex): Once assigned, their values cannot be changed."
   ]
  },
  {
   "cell_type": "code",
   "execution_count": 1,
   "id": "021527f5",
   "metadata": {},
   "outputs": [
    {
     "name": "stdout",
     "output_type": "stream",
     "text": [
      "5\n"
     ]
    }
   ],
   "source": [
    "x=1\n",
    "x+=4\n",
    "print(x)#after the print statement a new object with value 5 is created"
   ]
  },
  {
   "cell_type": "markdown",
   "id": "036b66e4",
   "metadata": {},
   "source": [
    "2)Strings: Strings are immutable in Python. Any operation that modifies a string actually creates a new string object."
   ]
  },
  {
   "cell_type": "code",
   "execution_count": 3,
   "id": "3ca8fa69",
   "metadata": {},
   "outputs": [
    {
     "name": "stdout",
     "output_type": "stream",
     "text": [
      "Ayush Pradhan\n"
     ]
    }
   ],
   "source": [
    "s=\"Ayush\"\n",
    "s+=\" Pradhan\" #A new string Ayush Pradhan is created\n",
    "print(s)"
   ]
  },
  {
   "cell_type": "markdown",
   "id": "97ae700b",
   "metadata": {},
   "source": [
    "3)Tuples: Tuples are immutable collections of objects. Once a tuple is created, its elements cannot be modified."
   ]
  },
  {
   "cell_type": "code",
   "execution_count": 4,
   "id": "c0cd8f7b",
   "metadata": {},
   "outputs": [
    {
     "ename": "TypeError",
     "evalue": "'tuple' object does not support item assignment",
     "output_type": "error",
     "traceback": [
      "\u001b[1;31m---------------------------------------------------------------------------\u001b[0m",
      "\u001b[1;31mTypeError\u001b[0m                                 Traceback (most recent call last)",
      "Cell \u001b[1;32mIn[4], line 2\u001b[0m\n\u001b[0;32m      1\u001b[0m t\u001b[38;5;241m=\u001b[39m(\u001b[38;5;241m1\u001b[39m,\u001b[38;5;241m2\u001b[39m,\u001b[38;5;241m3\u001b[39m)\n\u001b[1;32m----> 2\u001b[0m t[\u001b[38;5;241m2\u001b[39m]\u001b[38;5;241m=\u001b[39m\u001b[38;5;241m4\u001b[39m\n",
      "\u001b[1;31mTypeError\u001b[0m: 'tuple' object does not support item assignment"
     ]
    }
   ],
   "source": [
    "t=(1,2,3)\n",
    "t[2]=4"
   ]
  },
  {
   "cell_type": "markdown",
   "id": "344d078a",
   "metadata": {},
   "source": [
    "Mutable data types, on the other hand, allow modifications to their values after they are created. When a change is made to a mutable object, the object itself is modified without creating a new object.Following are mutable data types in python.\n",
    "\n",
    "1)Lists: Lists are mutable sequences of objects. Elements can be added, removed, or modified in a list."
   ]
  },
  {
   "cell_type": "code",
   "execution_count": 5,
   "id": "b583bb31",
   "metadata": {},
   "outputs": [
    {
     "name": "stdout",
     "output_type": "stream",
     "text": [
      "[1, 4, 3]\n",
      "[1, 4, 3, 5]\n",
      "[1, 4, 5]\n"
     ]
    }
   ],
   "source": [
    "my_list = [1, 2, 3]\n",
    "my_list[1] = 4  # Modifying the element at index 1\n",
    "print(my_list)  # Output: [1, 4, 3]\n",
    "\n",
    "my_list.append(5)  # Adding an element to the end of the list\n",
    "print(my_list)  # Output: [1, 4, 3, 5]\n",
    "\n",
    "my_list.remove(3)  # Removing an element from the list\n",
    "print(my_list)  # Output: [1, 4, 5]"
   ]
  },
  {
   "cell_type": "markdown",
   "id": "b3e514e9",
   "metadata": {},
   "source": [
    "2)Sets: Sets are mutable unordered collections of unique elements. Elements can be added or removed from a set."
   ]
  },
  {
   "cell_type": "code",
   "execution_count": 6,
   "id": "ed8142d8",
   "metadata": {},
   "outputs": [
    {
     "name": "stdout",
     "output_type": "stream",
     "text": [
      "{1, 2, 3, 4}\n",
      "{1, 3, 4}\n"
     ]
    }
   ],
   "source": [
    "my_set = {1, 2, 3}\n",
    "my_set.add(4)  # Adding an element to the set\n",
    "print(my_set)  # Output: {1, 2, 3, 4}\n",
    "\n",
    "my_set.remove(2)  # Removing an element from the set\n",
    "print(my_set)  # Output: {1, 3, 4}"
   ]
  },
  {
   "cell_type": "markdown",
   "id": "53870eb1",
   "metadata": {},
   "source": [
    "3)Dictionaries: Dictionaries are mutable mappings of key-value pairs. The values associated with keys can be modified or new key-value pairs can be added or removed."
   ]
  },
  {
   "cell_type": "code",
   "execution_count": 7,
   "id": "dab6e386",
   "metadata": {},
   "outputs": [
    {
     "name": "stdout",
     "output_type": "stream",
     "text": [
      "{'a': 1, 'b': 4, 'c': 3}\n",
      "{'a': 1, 'b': 4, 'c': 3, 'd': 5}\n",
      "{'b': 4, 'c': 3, 'd': 5}\n"
     ]
    }
   ],
   "source": [
    "my_dict = {'a': 1, 'b': 2, 'c': 3}\n",
    "my_dict['b'] = 4  # Modifying the value associated with key 'b'\n",
    "print(my_dict)  # Output: {'a': 1, 'b': 4, 'c': 3}\n",
    "\n",
    "my_dict['d'] = 5  # Adding a new key-value pair\n",
    "print(my_dict)  # Output: {'a': 1, 'b': 4, 'c': 3, 'd': 5}\n",
    "\n",
    "del my_dict['a']  # Removing a key-value pair\n",
    "print(my_dict)  # Output: {'b': 4, 'c': 3, 'd': 5}"
   ]
  },
  {
   "cell_type": "markdown",
   "id": "9dc179c5",
   "metadata": {},
   "source": [
    "Q.9. Write a code to create the given structure using only for loop.\n",
    "    *\n",
    "   ***\n",
    "  *****\n",
    " *******\n",
    "*********"
   ]
  },
  {
   "cell_type": "code",
   "execution_count": 1,
   "id": "424f128c",
   "metadata": {},
   "outputs": [
    {
     "name": "stdout",
     "output_type": "stream",
     "text": [
      "    *\n",
      "   ***\n",
      "  *****\n",
      " *******\n",
      "*********\n"
     ]
    }
   ],
   "source": [
    "rows = 5\n",
    "\n",
    "for i in range(rows):\n",
    "    for j in range(rows - i - 1):\n",
    "        print(\" \", end=\"\")\n",
    "    \n",
    "    for k in range(2*i + 1):\n",
    "        print(\"*\", end=\"\")\n",
    "    \n",
    "    print()"
   ]
  },
  {
   "cell_type": "markdown",
   "id": "4ce33289",
   "metadata": {},
   "source": [
    "Q.10. Write a code to create the given structure using while loop and explain the code\n",
    "|||||||||\n",
    " |||||||\n",
    "  |||||\n",
    "   |||\n",
    "    |"
   ]
  },
  {
   "cell_type": "code",
   "execution_count": 2,
   "id": "a3b70ba5",
   "metadata": {},
   "outputs": [
    {
     "name": "stdout",
     "output_type": "stream",
     "text": [
      "|||||||||\n",
      " |||||||\n",
      "  |||||\n",
      "   |||\n",
      "    |\n"
     ]
    }
   ],
   "source": [
    "rows = 5\n",
    "i = 0\n",
    "\n",
    "while rows > 0:\n",
    "    j = 0\n",
    "    while j < i:\n",
    "        print(\" \", end=\"\")\n",
    "        j += 1\n",
    "    \n",
    "    k = 0\n",
    "    while k < (2 * rows - 1):\n",
    "        print(\"|\", end=\"\")\n",
    "        k += 1\n",
    "    \n",
    "    print()\n",
    "    rows -= 1\n",
    "    i += 1"
   ]
  }
 ],
 "metadata": {
  "kernelspec": {
   "display_name": "Python 3 (ipykernel)",
   "language": "python",
   "name": "python3"
  },
  "language_info": {
   "codemirror_mode": {
    "name": "ipython",
    "version": 3
   },
   "file_extension": ".py",
   "mimetype": "text/x-python",
   "name": "python",
   "nbconvert_exporter": "python",
   "pygments_lexer": "ipython3",
   "version": "3.10.9"
  }
 },
 "nbformat": 4,
 "nbformat_minor": 5
}
