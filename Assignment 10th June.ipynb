{
 "cells": [
  {
   "cell_type": "markdown",
   "id": "17e59aa0",
   "metadata": {},
   "source": [
    "Q1. In Python, what is the difference between a built-in function and a user-defined function? Provide an example of each.\n"
   ]
  },
  {
   "cell_type": "markdown",
   "id": "c556fe1f",
   "metadata": {},
   "source": [
    "Built-in functions in python are the functions that are provided by the python language itself.\n",
    "These functions are directly available in the python library and don't require any additional import statements.\n",
    "On the other hand, a user-defined function is created by the programmer to perform a specific task or set of tasks. These functions are defined using the def keyword followed by a unique function name and a block of code. User-defined functions allow developers to encapsulate reusable code and improve the organization and readability of their programs."
   ]
  },
  {
   "cell_type": "code",
   "execution_count": 1,
   "id": "245b6b31",
   "metadata": {},
   "outputs": [
    {
     "name": "stdout",
     "output_type": "stream",
     "text": [
      "23\n"
     ]
    }
   ],
   "source": [
    "text = \"Python for data science\"\n",
    "length = len(text)\n",
    "print(length)"
   ]
  },
  {
   "cell_type": "markdown",
   "id": "5c11ee89",
   "metadata": {},
   "source": [
    "here len() is built-in fuction which will return the length of the given text."
   ]
  },
  {
   "cell_type": "code",
   "execution_count": 3,
   "id": "951967af",
   "metadata": {},
   "outputs": [
    {
     "name": "stdout",
     "output_type": "stream",
     "text": [
      "11\n"
     ]
    }
   ],
   "source": [
    "def cal_sum(a, b):\n",
    "    return a + b\n",
    "\n",
    "result =cal_sum(7, 4)\n",
    "print(result)"
   ]
  },
  {
   "cell_type": "markdown",
   "id": "a3b6589c",
   "metadata": {},
   "source": [
    "Here cal_sum(a,b) is user defined function which takes 2 parameters a and b and then calculates the sum which is stored in result."
   ]
  },
  {
   "cell_type": "markdown",
   "id": "e01343ec",
   "metadata": {},
   "source": [
    "Q2.How can you pass arguments to a function in Python? Explain the difference between positional arguments and keyword arguments.\n",
    "\n",
    "Ans.\n",
    "\n",
    "In Python, you can pass arguments to a function in several ways. The two main types of arguments are positional arguments and keyword arguments.\n",
    "\n",
    "Positional Arguments:\n",
    "\n",
    "Positional arguments are passed to a function based on their position or order. When calling a function with positional arguments, you need to provide the arguments in the same order as defined in the function's parameter list."
   ]
  },
  {
   "cell_type": "code",
   "execution_count": 4,
   "id": "9f869422",
   "metadata": {},
   "outputs": [
    {
     "name": "stdout",
     "output_type": "stream",
     "text": [
      "Hello Ayush ! you are 29 year old\n"
     ]
    }
   ],
   "source": [
    "def welcome(name,age):\n",
    "    print(f\"Hello {name} ! you are {age} year old\")\n",
    "welcome(\"Ayush\",29)    "
   ]
  },
  {
   "cell_type": "markdown",
   "id": "7d7aadd2",
   "metadata": {},
   "source": [
    "Keyword Arguments:\n",
    "\n",
    "Keyword arguments are passed to a function using the argument name and the corresponding value. This allows you to specify arguments in any order, as long as you provide the argument names."
   ]
  },
  {
   "cell_type": "code",
   "execution_count": 5,
   "id": "3f7dde91",
   "metadata": {},
   "outputs": [
    {
     "name": "stdout",
     "output_type": "stream",
     "text": [
      "Hello Ayush ! you are 29 year old\n"
     ]
    }
   ],
   "source": [
    "def welcome(name,age):\n",
    "    print(f\"Hello {name} ! you are {age} year old\")\n",
    "welcome(age=29,name=\"Ayush\") "
   ]
  },
  {
   "cell_type": "markdown",
   "id": "c2d4a6d5",
   "metadata": {},
   "source": [
    "Q.3 What is the purpose of the return statement in a function? Can a function have multiple return\n",
    "statements? Explain with an example.\n",
    "\n",
    "Ans.\n",
    "\n",
    "The purpose of the return statement in a function is to specify the value or values that the function should output or \"return\" to the caller. It allows a function to compute a result and provide it back to the code that called the function.\n",
    "\n",
    "A function can indeed have multiple return statements. Once a return statement is executed, the function terminates, and the value specified in the return statement is returned to the caller."
   ]
  },
  {
   "cell_type": "code",
   "execution_count": 9,
   "id": "ae7acee8",
   "metadata": {},
   "outputs": [
    {
     "name": "stdout",
     "output_type": "stream",
     "text": [
      "Invalid weight. Weight must be greater than zero.\n",
      "5.0\n",
      "10.0\n"
     ]
    }
   ],
   "source": [
    "def calculate_shipping_cost(weight):\n",
    "    if weight <= 0:\n",
    "        return \"Invalid weight. Weight must be greater than zero.\"\n",
    "    elif weight <= 1:\n",
    "        return 5.0\n",
    "    elif weight <= 5:\n",
    "        return 10.0\n",
    "    else:\n",
    "        return 15.0\n",
    "print(calculate_shipping_cost(0))\n",
    "print(calculate_shipping_cost(1))\n",
    "print(calculate_shipping_cost(5))"
   ]
  },
  {
   "cell_type": "markdown",
   "id": "1a6b8655",
   "metadata": {},
   "source": [
    "Q.4.What are lambda functions in Python? How are they different from regular functions? Provide an example where a lambda function can be useful.\n",
    "\n",
    "Ans.\n",
    "Lambda functions, also known as anonymous functions, are a way to create small, one-line functions in Python without a formal def statement. They are typically used for simple, concise operations and are defined using the lambda keyword.\n",
    "\n",
    "Here's the syntax of a lambda function:\n",
    "\n",
    "lambda arguments: expression"
   ]
  },
  {
   "cell_type": "markdown",
   "id": "a12e213b",
   "metadata": {},
   "source": [
    "Lambda functions can take any number of arguments but must contain a single expression. The result of the expression is automatically returned.\n",
    "\n",
    "The main differences between lambda functions and regular functions are:\n",
    "\n",
    "Syntax: Lambda functions are defined using the lambda keyword without a function name, while regular functions are defined using the def keyword followed by a function name.\n",
    "\n",
    "Simplicity: Lambda functions are typically used for short and simple operations, whereas regular functions are used for more complex and reusable code.\n",
    "\n",
    "Function Name: Lambda functions are anonymous, meaning they don't have a name assigned to them. They are often used as throwaway functions or as arguments to other functions.\n",
    "\n",
    "Here's an example where a lambda function can be useful:"
   ]
  },
  {
   "cell_type": "code",
   "execution_count": 10,
   "id": "b3383589",
   "metadata": {},
   "outputs": [
    {
     "name": "stdout",
     "output_type": "stream",
     "text": [
      "[2, 4]\n"
     ]
    }
   ],
   "source": [
    "# List of numbers\n",
    "numbers = [1, 2, 3, 4, 5]\n",
    "\n",
    "# Filtering even numbers using lambda function with filter()\n",
    "even_numbers = list(filter(lambda x: x % 2 == 0, numbers))\n",
    "print(even_numbers)"
   ]
  },
  {
   "cell_type": "markdown",
   "id": "91ac7766",
   "metadata": {},
   "source": [
    "Q.5.How does the concept of \"scope\" apply to functions in Python? Explain the difference between local scope and global scope.\n",
    "\n",
    "Ans.\n",
    "\n",
    "In Python, \"scope\" refers to the visibility and accessibility of variables within different parts of your code. The concept of scope applies to functions in Python, and it determines where variables can be accessed and how they interact with each other.\n",
    "\n",
    "Local Scope:\n",
    "Local scope refers to the visibility and accessibility of variables defined inside a function. Variables created within a function are considered \"local\" to that function and can only be accessed within the function itself.\n",
    "for example:\n"
   ]
  },
  {
   "cell_type": "code",
   "execution_count": 15,
   "id": "1ab096cb",
   "metadata": {},
   "outputs": [
    {
     "name": "stdout",
     "output_type": "stream",
     "text": [
      "8\n"
     ]
    },
    {
     "ename": "NameError",
     "evalue": "name 'x' is not defined",
     "output_type": "error",
     "traceback": [
      "\u001b[1;31m---------------------------------------------------------------------------\u001b[0m",
      "\u001b[1;31mNameError\u001b[0m                                 Traceback (most recent call last)",
      "Cell \u001b[1;32mIn[15], line 6\u001b[0m\n\u001b[0;32m      4\u001b[0m     \u001b[38;5;28;01mreturn\u001b[39;00m x\u001b[38;5;241m+\u001b[39my\n\u001b[0;32m      5\u001b[0m \u001b[38;5;28mprint\u001b[39m(add())\n\u001b[1;32m----> 6\u001b[0m \u001b[38;5;28mprint\u001b[39m(\u001b[43mx\u001b[49m)\n",
      "\u001b[1;31mNameError\u001b[0m: name 'x' is not defined"
     ]
    }
   ],
   "source": [
    "def add():\n",
    "    x=5 #local variable\n",
    "    y=3 \n",
    "    return x+y\n",
    "print(add())\n",
    "print(x) #it will produce error as the variable is acceseed outside the function "
   ]
  },
  {
   "cell_type": "markdown",
   "id": "25f720b1",
   "metadata": {},
   "source": [
    "Global Scope:\n",
    "\n",
    "Global scope refers to the visibility and accessibility of variables defined outside any function, making them accessible throughout the entire program. Global variables can be accessed both from within functions and outside of them. for example\n"
   ]
  },
  {
   "cell_type": "code",
   "execution_count": 17,
   "id": "b3542143",
   "metadata": {},
   "outputs": [
    {
     "name": "stdout",
     "output_type": "stream",
     "text": [
      "15\n",
      "5\n"
     ]
    }
   ],
   "source": [
    "x=5 #Global variable\n",
    "y=10#Global variable\n",
    "\n",
    "def add():\n",
    "    return x+y\n",
    "print(add())\n",
    "print (x)"
   ]
  },
  {
   "cell_type": "markdown",
   "id": "25863702",
   "metadata": {},
   "source": [
    "Q.6 How can you use the \"return\" statement in a Python function to return multiple values?\n",
    "\n",
    "Ans.\n",
    "\n",
    "In Python, you can use the \"return\" statement in a function to return multiple values by separating them with commas. When a function returns multiple values, Python packs them into a single tuple, and you can then unpack the tuple into individual variables when calling the function. Here's a simple example:"
   ]
  },
  {
   "cell_type": "code",
   "execution_count": 1,
   "id": "4cc8ed9e",
   "metadata": {},
   "outputs": [
    {
     "name": "stdout",
     "output_type": "stream",
     "text": [
      "42\n",
      "Hello, World!\n",
      "[1, 2, 3]\n"
     ]
    }
   ],
   "source": [
    "def get_values():\n",
    "    value1 = 42\n",
    "    value2 = \"Hello, World!\"\n",
    "    value3 = [1, 2, 3]\n",
    "    return value1, value2, value3\n",
    "\n",
    "result1, result2, result3 = get_values()\n",
    "\n",
    "print(result1)  \n",
    "print(result2)  \n",
    "print(result3)  "
   ]
  },
  {
   "cell_type": "markdown",
   "id": "cdd17a4b",
   "metadata": {},
   "source": [
    "Q.7 What is the difference between the \"pass by value\" and \"pass by reference\" concepts when it\n",
    "comes to function arguments in Python?\n",
    "\n",
    "Ans.\n",
    "\n",
    "In Python, the concepts of \"pass by value\" and \"pass by reference\" can be a bit misleading when discussing function arguments. The reason for this is that Python behaves differently from some other programming languages in this regard.\n",
    "\n",
    "In a strict sense, Python uses a mechanism that can be described as \"pass by object reference\" or \"pass by assignment.\" Let's break down the differences between \"pass by value\" and \"pass by reference\" as commonly understood and how they apply to Python.\n",
    "\n",
    "Pass by Value:\n",
    "In languages that use \"pass by value,\" when you pass a variable as an argument to a function, a copy of the variable's value is made, and this copy is what the function operates on. Any changes made to the variable within the function do not affect the original variable in the calling scope.\n",
    "Example: (pseudo code)\n",
    "\n",
    "function increment(num) {\n",
    "\n",
    "       num = num + 1; // Changes are local to the function\n",
    "}\n",
    "\n",
    "let x = 10;\n",
    "\n",
    "increment(x);\n",
    "\n",
    "console.log(x);"
   ]
  },
  {
   "cell_type": "markdown",
   "id": "fbc1ed5b",
   "metadata": {},
   "source": [
    "Q.8 Create a function that can intake integer or decimal value and do following operations:\n",
    "\n",
    "a. Logarithmic function (log x)\n",
    "\n",
    "b. Exponential function (exp(x))\n",
    "\n",
    "c. Power function with base 2 (2x)\n",
    "\n",
    "d. Square root\n"
   ]
  },
  {
   "cell_type": "code",
   "execution_count": 25,
   "id": "ba171e2d",
   "metadata": {},
   "outputs": [
    {
     "name": "stdout",
     "output_type": "stream",
     "text": [
      "Result for x=2\n",
      "Logarithamic function 0.6931471805599453\n",
      "Exponential function 7.38905609893065\n",
      "Power function 4.0\n",
      "Square Root function 1.4142135623730951\n",
      "Result for x=3\n",
      "Logarithamic function 1.0986122886681098\n",
      "Exponential function 20.085536923187668\n",
      "Power function 8.0\n",
      "Square Root function 1.7320508075688772\n"
     ]
    }
   ],
   "source": [
    "#Ans8\n",
    "import math\n",
    "def perform_operations(x):\n",
    "    log_result=math.log(x)\n",
    "    exp_result=math.exp(x)\n",
    "    power_result=math.pow(2,x)\n",
    "    sqrt_result=math.sqrt(x)\n",
    "    return log_result,exp_result,power_result,sqrt_result\n",
    "result1=perform_operations(2)\n",
    "result2=perform_operations(3)\n",
    "print(\"Result for x=2\")\n",
    "print(\"Logarithamic function\",result1[0])\n",
    "print(\"Exponential function\",result1[1])\n",
    "print(\"Power function\",result1[2])\n",
    "print(\"Square Root function\",result1[3])\n",
    "\n",
    "print(\"Result for x=3\")\n",
    "print(\"Logarithamic function\",result2[0])\n",
    "print(\"Exponential function\",result2[1])\n",
    "print(\"Power function\",result2[2])\n",
    "print(\"Square Root function\",result2[3])\n",
    "\n",
    "    "
   ]
  },
  {
   "cell_type": "markdown",
   "id": "f9138c72",
   "metadata": {},
   "source": [
    "Q.9 Create a function that takes a full name as an argument and returns first name and last name."
   ]
  },
  {
   "cell_type": "code",
   "execution_count": 21,
   "id": "41c1a9e4",
   "metadata": {},
   "outputs": [
    {
     "name": "stdout",
     "output_type": "stream",
     "text": [
      "First Name: Ayush\n",
      "Last Name: Pradhan\n"
     ]
    }
   ],
   "source": [
    "#Ans.9\n",
    "def name(fullname):\n",
    "    names=fullname.split()\n",
    "    firstname=names[0]\n",
    "    lastname=names[-1]\n",
    "    return firstname,lastname\n",
    "fullname=\"Ayush Pradhan\"\n",
    "firstname,lastname=name(fullname)\n",
    "print(\"First Name:\", firstname) \n",
    "print(\"Last Name:\", lastname) "
   ]
  }
 ],
 "metadata": {
  "kernelspec": {
   "display_name": "Python 3 (ipykernel)",
   "language": "python",
   "name": "python3"
  },
  "language_info": {
   "codemirror_mode": {
    "name": "ipython",
    "version": 3
   },
   "file_extension": ".py",
   "mimetype": "text/x-python",
   "name": "python",
   "nbconvert_exporter": "python",
   "pygments_lexer": "ipython3",
   "version": "3.10.9"
  }
 },
 "nbformat": 4,
 "nbformat_minor": 5
}
