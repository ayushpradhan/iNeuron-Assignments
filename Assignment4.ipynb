{
 "cells": [
  {
   "cell_type": "markdown",
   "id": "bee02d28",
   "metadata": {},
   "source": [
    "Q1. What exactly is []?\n",
    "\n",
    "[] is a list in Python and it is used to store the sequence of various types of data. A list can be defined as a collection of values or items of different types. Python lists are mutable type which implies that we may modify its element after it has been formed. Theitems in the list are separated with the comma (,) and enclosed with the square brackets []."
   ]
  },
  {
   "cell_type": "markdown",
   "id": "238387fe",
   "metadata": {},
   "source": [
    "Q2. In a list of values stored in a variable called spam, how would you assign the value 'hello' as the third value? (Assume [2, 4, 6, 8, 10] are in spam.)"
   ]
  },
  {
   "cell_type": "code",
   "execution_count": 1,
   "id": "b7867282",
   "metadata": {},
   "outputs": [
    {
     "name": "stdout",
     "output_type": "stream",
     "text": [
      "[2, 4, 'hello', 8, 10]\n"
     ]
    }
   ],
   "source": [
    "a=[2,4,6,8,10]\n",
    "a[2]=\"hello\"\n",
    "print(a)"
   ]
  },
  {
   "cell_type": "markdown",
   "id": "878fb4eb",
   "metadata": {},
   "source": [
    "Let's pretend the spam includes the list ['a', 'b', 'c', 'd'] for the next three queries.\n",
    "\n",
    "Q3. What is the value of spam[int(int('3' * 2) / 11)]?"
   ]
  },
  {
   "cell_type": "code",
   "execution_count": 2,
   "id": "2443624a",
   "metadata": {},
   "outputs": [
    {
     "data": {
      "text/plain": [
       "'d'"
      ]
     },
     "execution_count": 2,
     "metadata": {},
     "output_type": "execute_result"
    }
   ],
   "source": [
    "spam=['a','b','c','d']\n",
    "spam[int(int('3' * 2) / 11)]\n"
   ]
  },
  {
   "cell_type": "markdown",
   "id": "392c8af6",
   "metadata": {},
   "source": [
    "Q4. What is the value of spam[-1]?"
   ]
  },
  {
   "cell_type": "code",
   "execution_count": 3,
   "id": "22654ebf",
   "metadata": {},
   "outputs": [
    {
     "data": {
      "text/plain": [
       "'d'"
      ]
     },
     "execution_count": 3,
     "metadata": {},
     "output_type": "execute_result"
    }
   ],
   "source": [
    "spam[-1]"
   ]
  },
  {
   "cell_type": "markdown",
   "id": "518e486f",
   "metadata": {},
   "source": [
    "Q5. What is the value of spam[:2]?"
   ]
  },
  {
   "cell_type": "code",
   "execution_count": 4,
   "id": "a75b5c44",
   "metadata": {},
   "outputs": [
    {
     "data": {
      "text/plain": [
       "['a', 'b']"
      ]
     },
     "execution_count": 4,
     "metadata": {},
     "output_type": "execute_result"
    }
   ],
   "source": [
    "spam[:2]"
   ]
  },
  {
   "cell_type": "markdown",
   "id": "c8d4699f",
   "metadata": {},
   "source": [
    "Let's pretend bacon has the list [3.14, 'cat,' 11, 'cat,' True] for the next three questions.\n",
    "\n",
    "Q6. What is the value of bacon.index('cat')?"
   ]
  },
  {
   "cell_type": "code",
   "execution_count": 5,
   "id": "959f0e64",
   "metadata": {},
   "outputs": [
    {
     "data": {
      "text/plain": [
       "1"
      ]
     },
     "execution_count": 5,
     "metadata": {},
     "output_type": "execute_result"
    }
   ],
   "source": [
    "bacon=[3.14,'cat',11,'cat',True]\n",
    "bacon.index('cat')"
   ]
  },
  {
   "cell_type": "markdown",
   "id": "aefe7e7d",
   "metadata": {},
   "source": [
    "Q7. How does bacon.append(99) change the look of the list value in bacon?"
   ]
  },
  {
   "cell_type": "code",
   "execution_count": 6,
   "id": "e672a2c3",
   "metadata": {},
   "outputs": [
    {
     "name": "stdout",
     "output_type": "stream",
     "text": [
      "[3.14, 'cat', 11, 'cat', True, 99]\n"
     ]
    }
   ],
   "source": [
    "bacon.append(99)\n",
    "print(bacon)"
   ]
  },
  {
   "cell_type": "markdown",
   "id": "3ccf3765",
   "metadata": {},
   "source": [
    "Q8. How does bacon.remove('cat') change the look of the list in bacon?"
   ]
  },
  {
   "cell_type": "code",
   "execution_count": 8,
   "id": "7855468c",
   "metadata": {},
   "outputs": [
    {
     "name": "stdout",
     "output_type": "stream",
     "text": [
      "[3.14, 11, True, 99]\n"
     ]
    }
   ],
   "source": [
    "bacon.remove('cat')\n",
    "print(bacon)"
   ]
  },
  {
   "cell_type": "markdown",
   "id": "1f7ec7a2",
   "metadata": {},
   "source": [
    "Q9. What are the list concatenation and list replication operators?\n",
    "\n",
    "List Concatenation Operator (+):\n",
    "The plus operator allows you to concatenate (join together) two or more lists, creating a new list that contains all the elements from the original lists. For example:"
   ]
  },
  {
   "cell_type": "code",
   "execution_count": 9,
   "id": "a3830486",
   "metadata": {},
   "outputs": [
    {
     "name": "stdout",
     "output_type": "stream",
     "text": [
      "[1, 2, 3, 4, 5, 6]\n"
     ]
    }
   ],
   "source": [
    "list1=[1,2,3]\n",
    "list2=[4,5,6]\n",
    "print(list1 + list2)"
   ]
  },
  {
   "cell_type": "markdown",
   "id": "f6429d44",
   "metadata": {},
   "source": [
    "List Replication Operator (*):\n",
    "The asterisk operator allows you to replicate (duplicate) a list by a specified number of times. It creates a new list that contains the original list elements repeated in the specified pattern. For example:"
   ]
  },
  {
   "cell_type": "code",
   "execution_count": 10,
   "id": "7d5c11a9",
   "metadata": {},
   "outputs": [
    {
     "name": "stdout",
     "output_type": "stream",
     "text": [
      "[1, 2, 3, 1, 2, 3, 1, 2, 3]\n"
     ]
    }
   ],
   "source": [
    "list1=[1,2,3]\n",
    "print(list1*3)"
   ]
  },
  {
   "cell_type": "markdown",
   "id": "4a1666a9",
   "metadata": {},
   "source": [
    "Q10. What is difference between the list methods append() and insert()?\n",
    "\n",
    "The append() and insert() methods are both used to add elements to a list in Python, but they differ in how they add the elements:\n",
    "\n",
    "append() method:\n",
    "\n",
    "The append() method is used to add an element to the end of a list. It takes a single argument, which is the element you want to add. The append() method modifies the original list by adding the element at the end. For example:"
   ]
  },
  {
   "cell_type": "code",
   "execution_count": 11,
   "id": "47bc6934",
   "metadata": {},
   "outputs": [
    {
     "name": "stdout",
     "output_type": "stream",
     "text": [
      "['Apple', 'Banana', 'Orange', 'Mango']\n"
     ]
    }
   ],
   "source": [
    "fruits=['Apple','Banana','Orange']\n",
    "fruits.append('Mango')\n",
    "print(fruits)"
   ]
  },
  {
   "cell_type": "markdown",
   "id": "c28aa31f",
   "metadata": {},
   "source": [
    "insert() method:\n",
    "\n",
    "The insert() method is used to add an element at a specific position in a list. It takes two arguments: the index position where you want to insert the element and the element itself. The insert() method modifies the original list by shifting the existing \n",
    "elements to make room for the new element. For example:"
   ]
  },
  {
   "cell_type": "code",
   "execution_count": 12,
   "id": "fc70347b",
   "metadata": {},
   "outputs": [
    {
     "name": "stdout",
     "output_type": "stream",
     "text": [
      "[1, 2, 2, 3, 4]\n"
     ]
    }
   ],
   "source": [
    "mylist=[1,2,3,4]\n",
    "mylist.insert(1,2)\n",
    "print(mylist)"
   ]
  },
  {
   "cell_type": "markdown",
   "id": "4e0969b2",
   "metadata": {},
   "source": [
    "append() adds elements to the end of a list, while insert() allows you to specify the position where you want to insert an element."
   ]
  },
  {
   "cell_type": "markdown",
   "id": "b87e78d6",
   "metadata": {},
   "source": [
    "Q11. What are the two methods for removing items from a list?\n",
    "\n",
    "Ans\n",
    "remove() method:\n",
    "The remove() method is used to remove the first occurrence of a specific value from a list. If the value is found in the list, it is removed, and if the value is not present, it will raise a ValueError. For example:"
   ]
  },
  {
   "cell_type": "code",
   "execution_count": 13,
   "id": "8e7b127a",
   "metadata": {},
   "outputs": [
    {
     "name": "stdout",
     "output_type": "stream",
     "text": [
      "[1, 2, 3, 4, 5]\n"
     ]
    }
   ],
   "source": [
    "thislist=[1,2,2,3,4,5]\n",
    "thislist.remove(2)\n",
    "print(thislist)"
   ]
  },
  {
   "cell_type": "markdown",
   "id": "082996a0",
   "metadata": {},
   "source": [
    "pop() method:\n",
    "\n",
    "The pop() method is used to remove an item from a list at a specific index. It takes an optional index argument, and if no index is specified, it removes and returns the last item from the list. If an index is provided, it removes and returns the item at that index."
   ]
  },
  {
   "cell_type": "code",
   "execution_count": 14,
   "id": "619e105e",
   "metadata": {},
   "outputs": [
    {
     "name": "stdout",
     "output_type": "stream",
     "text": [
      "[1, 3, 4]\n",
      "2\n"
     ]
    }
   ],
   "source": [
    "mylist=[1,2,3,4]\n",
    "removeditem=mylist.pop(1)\n",
    "print(mylist)\n",
    "print(removeditem)"
   ]
  },
  {
   "cell_type": "markdown",
   "id": "2495d4fa",
   "metadata": {},
   "source": [
    "Q12. Describe how list values and string values are identical.\n",
    "\n",
    "Ans.List values and string values in Python are both examples of sequence data types and share some similarities:\n",
    "\n",
    "Indexing: Both lists and strings allow you to access individual elements using indexing. In Python, indexing starts from 0, so we can retrieve specific elements by referencing their index position within the sequence.\n",
    "for example:"
   ]
  },
  {
   "cell_type": "code",
   "execution_count": 15,
   "id": "9c59c7c0",
   "metadata": {},
   "outputs": [
    {
     "name": "stdout",
     "output_type": "stream",
     "text": [
      "2\n",
      "r\n"
     ]
    }
   ],
   "source": [
    "alpha=[1,2,3,4,5,6,7,8]\n",
    "fruit=\"Orange\"\n",
    "print(alpha[1])\n",
    "print(fruit[1])"
   ]
  },
  {
   "cell_type": "markdown",
   "id": "ad383c62",
   "metadata": {},
   "source": [
    "Slicing: Lists and strings support slicing, which allows you to extract a portion of the sequence by specifying a range of indices. This can be useful for working with subsequences or extracting specific sections of the data.\n",
    "Example:"
   ]
  },
  {
   "cell_type": "code",
   "execution_count": 16,
   "id": "77b6e26b",
   "metadata": {},
   "outputs": [
    {
     "name": "stdout",
     "output_type": "stream",
     "text": [
      "[1, 2, 3, 4]\n",
      "Oran\n"
     ]
    }
   ],
   "source": [
    "alpha=[1,2,3,4,5,6,7,8]\n",
    "fruit=\"Orange\"\n",
    "print(alpha[0:4])\n",
    "print(fruit[0:4])"
   ]
  },
  {
   "cell_type": "markdown",
   "id": "ae8f6127",
   "metadata": {},
   "source": [
    "Length: Both lists and strings have a length associated with them, which can be obtained using the len() function. The length represents the number of elements or characters in the sequence."
   ]
  },
  {
   "cell_type": "code",
   "execution_count": 17,
   "id": "1cdcd60f",
   "metadata": {},
   "outputs": [
    {
     "name": "stdout",
     "output_type": "stream",
     "text": [
      "8\n",
      "6\n"
     ]
    }
   ],
   "source": [
    "alpha=[1,2,3,4,5,6,7,8]\n",
    "fruit=\"Orange\"\n",
    "print(len(alpha))\n",
    "print(len(fruit))"
   ]
  },
  {
   "cell_type": "markdown",
   "id": "285895cb",
   "metadata": {},
   "source": [
    "Iteration: We can iterate over both lists and strings using loops.This allows sequential access of the elements."
   ]
  },
  {
   "cell_type": "code",
   "execution_count": 23,
   "id": "490a07a8",
   "metadata": {},
   "outputs": [
    {
     "name": "stdout",
     "output_type": "stream",
     "text": [
      "1,2,3,4,5,6,7,8,\n",
      "O\n",
      "r\n",
      "a\n",
      "n\n",
      "g\n",
      "e\n"
     ]
    }
   ],
   "source": [
    "alpha=[1,2,3,4,5,6,7,8]\n",
    "fruit=\"Orange\"\n",
    "for item in alpha:\n",
    "    print(item,end=\",\")\n",
    "print()    \n",
    "for char in fruit:\n",
    "    print(char)"
   ]
  },
  {
   "cell_type": "markdown",
   "id": "9c867df1",
   "metadata": {},
   "source": [
    "Q13. What's the difference between tuples and lists?\n",
    "Ans.\n",
    "Lists are mutable, meaning you can modify, add, or remove elements after the list is created. Tuples, on the other hand, are immutable, meaning they cannot be modified once created. You cannot add, remove, or change elements in a tuple."
   ]
  },
  {
   "cell_type": "markdown",
   "id": "6b270a70",
   "metadata": {},
   "source": [
    "Q14. How do you type a tuple value that only contains the integer 42?"
   ]
  },
  {
   "cell_type": "code",
   "execution_count": 2,
   "id": "b2a7df37",
   "metadata": {},
   "outputs": [
    {
     "data": {
      "text/plain": [
       "tuple"
      ]
     },
     "execution_count": 2,
     "metadata": {},
     "output_type": "execute_result"
    }
   ],
   "source": [
    "#Ans\n",
    "my_tuple = (42,) #comma is required after single value otherwise it will be interpretted as int\n",
    "type(my_tuple)"
   ]
  },
  {
   "cell_type": "code",
   "execution_count": 3,
   "id": "57115bcf",
   "metadata": {},
   "outputs": [
    {
     "data": {
      "text/plain": [
       "int"
      ]
     },
     "execution_count": 3,
     "metadata": {},
     "output_type": "execute_result"
    }
   ],
   "source": [
    "my_tuple = (42)#here no comma is used and here it is interpretted as int\n",
    "type(my_tuple)"
   ]
  },
  {
   "cell_type": "markdown",
   "id": "2c807e7a",
   "metadata": {},
   "source": [
    "Q15. How do you get a list value's tuple form? How do you get a tuple value's list form?"
   ]
  },
  {
   "cell_type": "code",
   "execution_count": 9,
   "id": "a8394790",
   "metadata": {},
   "outputs": [
    {
     "name": "stdout",
     "output_type": "stream",
     "text": [
      "(1, 2, 3, 4, 5, 6)\n"
     ]
    },
    {
     "data": {
      "text/plain": [
       "tuple"
      ]
     },
     "execution_count": 9,
     "metadata": {},
     "output_type": "execute_result"
    }
   ],
   "source": [
    "#Ans\n",
    "list1=[1,2,3,4,5,6]\n",
    "convert=tuple(list1)\n",
    "print(convert)\n",
    "type(convert)"
   ]
  },
  {
   "cell_type": "code",
   "execution_count": 12,
   "id": "d7c0412d",
   "metadata": {},
   "outputs": [
    {
     "name": "stdout",
     "output_type": "stream",
     "text": [
      "[1, 2, 3, 4, 5]\n"
     ]
    },
    {
     "data": {
      "text/plain": [
       "list"
      ]
     },
     "execution_count": 12,
     "metadata": {},
     "output_type": "execute_result"
    }
   ],
   "source": [
    "tuple1=(1,2,3,4,5)\n",
    "convert=list(tuple1)\n",
    "print(convert)\n",
    "type(convert)"
   ]
  },
  {
   "cell_type": "markdown",
   "id": "c8306535",
   "metadata": {},
   "source": [
    "Q16. Variables that \"contain\" list values are not necessarily lists themselves. Instead, what do they contain?\n",
    "Ans\n",
    "Variables that \"contain\" list values are not actually storing the list directly.Instead,they store reference to the list objects.The variable holds the memory address where the list is stored in the computers memory."
   ]
  },
  {
   "cell_type": "markdown",
   "id": "91e947b1",
   "metadata": {},
   "source": [
    "Q17. How do you distinguish between copy.copy() and copy.deepcopy()?"
   ]
  },
  {
   "cell_type": "markdown",
   "id": "93236e7e",
   "metadata": {},
   "source": [
    "Ans. In Python, the copy module provides two functions for creating copies of objects: copy() and deepcopy(). These functions are used to create copies of objects to avoid modifying the original object unintentionally. Here's the difference between copy.copy() and copy.deepcopy():\n",
    "\n",
    "copy.copy():\n",
    "The copy.copy() function creates a shallow copy of an object. A shallow copy creates a new object and copies the references of the original object's elements into the new object. This means that the copied object and the original object will still share references to the same nested objects.\n"
   ]
  },
  {
   "cell_type": "code",
   "execution_count": 14,
   "id": "7faa6e41",
   "metadata": {},
   "outputs": [
    {
     "name": "stdout",
     "output_type": "stream",
     "text": [
      "[1, 2, [3, 4, 5]]\n",
      "[1, 2, [3, 4, 5]]\n"
     ]
    }
   ],
   "source": [
    "list1 = [1, 2, [3, 4]]\n",
    "list2 = copy.copy(list1)\n",
    "\n",
    "list1[2].append(5)\n",
    "\n",
    "print(list1) \n",
    "print(list2)"
   ]
  },
  {
   "cell_type": "markdown",
   "id": "3acadd00",
   "metadata": {},
   "source": [
    "copy.deepcopy():\n",
    "The copy.deepcopy() function creates a deep copy of an object. A deep copy creates a new object and recursively copies all the objects found in the original object. This means that the copied object and the original object will have completely independent copies of nested objects."
   ]
  },
  {
   "cell_type": "code",
   "execution_count": 15,
   "id": "109a6ac9",
   "metadata": {},
   "outputs": [
    {
     "name": "stdout",
     "output_type": "stream",
     "text": [
      "[1, 2, [3, 4, 5]]\n",
      "[1, 2, [3, 4]]\n"
     ]
    }
   ],
   "source": [
    "list1 = [1, 2, [3, 4]]\n",
    "list2 = copy.deepcopy(list1)\n",
    "\n",
    "list1[2].append(5)\n",
    "\n",
    "print(list1)\n",
    "print(list2)"
   ]
  }
 ],
 "metadata": {
  "kernelspec": {
   "display_name": "Python 3 (ipykernel)",
   "language": "python",
   "name": "python3"
  },
  "language_info": {
   "codemirror_mode": {
    "name": "ipython",
    "version": 3
   },
   "file_extension": ".py",
   "mimetype": "text/x-python",
   "name": "python",
   "nbconvert_exporter": "python",
   "pygments_lexer": "ipython3",
   "version": "3.10.9"
  }
 },
 "nbformat": 4,
 "nbformat_minor": 5
}
