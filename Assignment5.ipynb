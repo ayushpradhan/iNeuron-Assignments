{
 "cells": [
  {
   "cell_type": "markdown",
   "id": "0bf8d7c3",
   "metadata": {},
   "source": [
    "Q1. What does an empty dictionary's code look like?"
   ]
  },
  {
   "cell_type": "code",
   "execution_count": 1,
   "id": "10cadfce",
   "metadata": {},
   "outputs": [
    {
     "data": {
      "text/plain": [
       "dict"
      ]
     },
     "execution_count": 1,
     "metadata": {},
     "output_type": "execute_result"
    }
   ],
   "source": [
    "#Ans\n",
    "emptyDict = {}\n",
    "type(emptyDict)"
   ]
  },
  {
   "cell_type": "markdown",
   "id": "3b0ad712",
   "metadata": {},
   "source": [
    "Q.2. What is the value of a dictionary value with the key 'foo' and the value 42?"
   ]
  },
  {
   "cell_type": "code",
   "execution_count": 2,
   "id": "f9574dcf",
   "metadata": {},
   "outputs": [
    {
     "name": "stdout",
     "output_type": "stream",
     "text": [
      "dict_values([42])\n"
     ]
    }
   ],
   "source": [
    "#Ans\n",
    "value={'foo':42}\n",
    "print(dict.values(value))"
   ]
  },
  {
   "cell_type": "markdown",
   "id": "65f064ac",
   "metadata": {},
   "source": [
    "Q.3. What is the most significant distinction between a dictionary and a list?\n",
    "\n",
    "Ans. A list uses numerical indices to access elements in an ordered manner, while a dictionary uses unique keys to access values in an unordered manner. Lists are suited for ordered collections of similar items, whereas dictionaries are more appropriate for mapping relationships between keys and values."
   ]
  },
  {
   "cell_type": "markdown",
   "id": "4eb0d40d",
   "metadata": {},
   "source": [
    "Q.4. What happens if you try to access spam['foo'] if spam is {'bar': 100}?"
   ]
  },
  {
   "cell_type": "code",
   "execution_count": 3,
   "id": "feedffe8",
   "metadata": {},
   "outputs": [
    {
     "ename": "KeyError",
     "evalue": "'foo'",
     "output_type": "error",
     "traceback": [
      "\u001b[1;31m---------------------------------------------------------------------------\u001b[0m",
      "\u001b[1;31mKeyError\u001b[0m                                  Traceback (most recent call last)",
      "Cell \u001b[1;32mIn[3], line 2\u001b[0m\n\u001b[0;32m      1\u001b[0m spam\u001b[38;5;241m=\u001b[39m{\u001b[38;5;124m'\u001b[39m\u001b[38;5;124mbar\u001b[39m\u001b[38;5;124m'\u001b[39m:\u001b[38;5;241m100\u001b[39m}\n\u001b[1;32m----> 2\u001b[0m \u001b[43mspam\u001b[49m\u001b[43m[\u001b[49m\u001b[38;5;124;43m'\u001b[39;49m\u001b[38;5;124;43mfoo\u001b[39;49m\u001b[38;5;124;43m'\u001b[39;49m\u001b[43m]\u001b[49m\n",
      "\u001b[1;31mKeyError\u001b[0m: 'foo'"
     ]
    }
   ],
   "source": [
    "#Ans\n",
    "spam={'bar':100}\n",
    "spam['foo']"
   ]
  },
  {
   "cell_type": "markdown",
   "id": "1745e0cc",
   "metadata": {},
   "source": [
    "since we have entered an invalid key we will encounter a key error"
   ]
  },
  {
   "cell_type": "markdown",
   "id": "0b56257f",
   "metadata": {},
   "source": [
    "Q.5. If a dictionary is stored in spam, what is the difference between the expressions 'cat' in spam and 'cat' in spam.keys()?\n",
    "\n",
    "Ans.\n",
    "'cat' in spam checks if 'cat' is a key in the dictionary spam, while 'cat' in spam.keys() checks if 'cat' is a key among the keys of the dictionary spam."
   ]
  },
  {
   "cell_type": "code",
   "execution_count": 6,
   "id": "3dd26930",
   "metadata": {},
   "outputs": [
    {
     "data": {
      "text/plain": [
       "True"
      ]
     },
     "execution_count": 6,
     "metadata": {},
     "output_type": "execute_result"
    }
   ],
   "source": [
    "spam={'cat':5,'dog':7}\n",
    "'cat' in spam\n"
   ]
  },
  {
   "cell_type": "code",
   "execution_count": 5,
   "id": "a6b252c1",
   "metadata": {},
   "outputs": [
    {
     "data": {
      "text/plain": [
       "True"
      ]
     },
     "execution_count": 5,
     "metadata": {},
     "output_type": "execute_result"
    }
   ],
   "source": [
    "'cat' in spam.keys()"
   ]
  },
  {
   "cell_type": "markdown",
   "id": "36cf8a22",
   "metadata": {},
   "source": [
    "Q.6 If a dictionary is stored in spam, what is the difference between the expressions 'cat' in spam and 'cat' in spam.values()?\n",
    "\n",
    "Ans.\n",
    "'cat' in spam checks if 'cat' is a key in the dictionary spam, while 'cat' in spam.values() checks if 'cat' is a value among the values of the dictionary spam."
   ]
  },
  {
   "cell_type": "code",
   "execution_count": 12,
   "id": "5cd4c2d8",
   "metadata": {},
   "outputs": [
    {
     "data": {
      "text/plain": [
       "True"
      ]
     },
     "execution_count": 12,
     "metadata": {},
     "output_type": "execute_result"
    }
   ],
   "source": [
    "spam={'cat':5,'dog':7}\n",
    "'cat' in spam"
   ]
  },
  {
   "cell_type": "code",
   "execution_count": 13,
   "id": "64c6be68",
   "metadata": {},
   "outputs": [
    {
     "data": {
      "text/plain": [
       "False"
      ]
     },
     "execution_count": 13,
     "metadata": {},
     "output_type": "execute_result"
    }
   ],
   "source": [
    "'cat'in spam.values()"
   ]
  },
  {
   "cell_type": "markdown",
   "id": "0140bfad",
   "metadata": {},
   "source": [
    "Q7. What is a shortcut for the following code?\n",
    "\n",
    "if 'color' not in spam:\n",
    "spam['color'] = 'black'\n",
    "\n",
    "Ans.\n",
    "A shortcut for the given code is to use the setdefault() method on the dictionary spam. The setdefault() method allows you to set a default value for a key in the dictionary if the key does not already exist. If the key exists, the method will return the value associated with the key."
   ]
  },
  {
   "cell_type": "code",
   "execution_count": null,
   "id": "d167a8f0",
   "metadata": {},
   "outputs": [],
   "source": [
    "spam.setdefault('color', 'black')"
   ]
  },
  {
   "cell_type": "markdown",
   "id": "a392b8dc",
   "metadata": {},
   "source": [
    "Q.8. How do you \"pretty print\" dictionary values using which module and function?\n",
    "\n",
    "Ans.\n",
    "To pretty print dictionary values in Python, you can use the pprint module and the pprint.pprint() function. The pprint module provides a way to print arbitrary Python data structures in a more readable format. The pprint.pprint() function takes an object as input and returns a string representation of the object with appropriate indentation and line breaks."
   ]
  },
  {
   "cell_type": "code",
   "execution_count": 17,
   "id": "7b0a5105",
   "metadata": {},
   "outputs": [
    {
     "name": "stdout",
     "output_type": "stream",
     "text": [
      "{'cat': 3, 'dog': 6, 'squirrel': 9}\n"
     ]
    }
   ],
   "source": [
    "import pprint\n",
    "pets = {'cat': 3, 'dog': 6, 'squirrel': 9}\n",
    "pprint.pprint(pets)"
   ]
  }
 ],
 "metadata": {
  "kernelspec": {
   "display_name": "Python 3 (ipykernel)",
   "language": "python",
   "name": "python3"
  },
  "language_info": {
   "codemirror_mode": {
    "name": "ipython",
    "version": 3
   },
   "file_extension": ".py",
   "mimetype": "text/x-python",
   "name": "python",
   "nbconvert_exporter": "python",
   "pygments_lexer": "ipython3",
   "version": "3.10.9"
  }
 },
 "nbformat": 4,
 "nbformat_minor": 5
}
