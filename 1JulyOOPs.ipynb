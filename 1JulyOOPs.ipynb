{
 "cells": [
  {
   "cell_type": "markdown",
   "id": "0b489cfa",
   "metadata": {},
   "source": [
    "Q.1 What is the primary goal of Object-Oriented Programming (OOP)?\n",
    "\n",
    "Ans.\n",
    "The primary goal of Object-Oriented Programming (OOP) in Python is to create software that is robust, adaptable, and reusable.\n",
    "\n",
    "1)Robustness means that the software is able to handle unexpected inputs or errors gracefully.\n",
    "\n",
    "2)Adaptability means that the software can be easily modified to meet new requirements or changes in the environment.\n",
    "\n",
    "3)Reusability means that the software can be easily reused in other projects."
   ]
  },
  {
   "cell_type": "markdown",
   "id": "81f0cbac",
   "metadata": {},
   "source": [
    "Q.2 What is an object in Python?\n",
    "\n",
    "Ans. An object is an instance of a class, which serves as a blueprint or template defining its structure and behavior. In other words, an object is a specific entity created based on a class, representing a real-world or conceptual entity."
   ]
  },
  {
   "cell_type": "markdown",
   "id": "5d63f743",
   "metadata": {},
   "source": [
    "Q.3 What is a class in Python?\n",
    "\n",
    "Ans. A class is a blueprint or a template that defines the structure and behavior of objects. It serves as a fundamental building block of object-oriented programming. A class defines a new type, allowing you to create instances of that type, known as objects.\n"
   ]
  },
  {
   "cell_type": "markdown",
   "id": "1b92c729",
   "metadata": {},
   "source": [
    "Q.4 What are attributes and methods in a class?\n",
    "\n",
    "Ans. Attributes are variables that are associated with an object. They can be used to store data about the object. For example, a Person class might have an attribute called name that stores the person's name.\n",
    "\n",
    "Methods are functions that are associated with an object. They can be used to perform actions on the object. For example, a Person class might have a method called greet() that prints a greeting message from the person."
   ]
  },
  {
   "cell_type": "code",
   "execution_count": 1,
   "id": "ac8fce93",
   "metadata": {},
   "outputs": [
    {
     "name": "stdout",
     "output_type": "stream",
     "text": [
      "Mac\n",
      "Hello, my name is Mac.\n"
     ]
    }
   ],
   "source": [
    "class Person:\n",
    "    def __init__(self, name):\n",
    "        self.name = name\n",
    "\n",
    "    def greet(self):\n",
    "        print(f\"Hello, my name is {self.name}.\")\n",
    "\n",
    "\n",
    "person = Person(\"Mac\")\n",
    "print(person.name)  # Mac\n",
    "person.greet() "
   ]
  },
  {
   "cell_type": "markdown",
   "id": "10698dd6",
   "metadata": {},
   "source": [
    "Q.5 What is the difference between class variables and instance variables in Python?\n",
    "Ans\n",
    "\n",
    ".Class variables are variables that are shared among all instances (objects) of a class.\n",
    "\n",
    ".They are declared inside the class but outside any method.\n",
    "\n",
    ".Class variables are accessed using the class name and are the same for all instances of the class.\n",
    "\n",
    ".Changes made to a class variable by one instance will affect all other instances.\n",
    "\n",
    "On the other hand\n",
    "\n",
    ".Instance variables are unique to each instance (object) of a class.\n",
    "\n",
    ".They are declared and initialized inside the class methods, typically within the constructor (__init__ method).\n",
    "\n",
    ".Instance variables belong to individual instances, and each instance has its own copy.\n",
    "Changes made to an instance variable affect only that particular instance.\n",
    "for eg:"
   ]
  },
  {
   "cell_type": "code",
   "execution_count": 1,
   "id": "7c341582",
   "metadata": {},
   "outputs": [
    {
     "name": "stdout",
     "output_type": "stream",
     "text": [
      "General Motors\n",
      "General Motors\n",
      "Volkswagen\n",
      "Volkswagen\n"
     ]
    }
   ],
   "source": [
    "class Employee:\n",
    "    Company_name=\"General Motors\" ##class variable\n",
    "    def __init__(self):\n",
    "        pass\n",
    "employee1=Employee()  \n",
    "employee2=Employee()\n",
    "\n",
    "print(employee1.Company_name)\n",
    "print(employee2.Company_name)\n",
    "\n",
    "Employee.Company_name=\"Volkswagen\" ##updated class variable \n",
    "\n",
    "print(employee1.Company_name)\n",
    "print(employee2.Company_name)"
   ]
  },
  {
   "cell_type": "code",
   "execution_count": 2,
   "id": "fd5b5669",
   "metadata": {},
   "outputs": [
    {
     "name": "stdout",
     "output_type": "stream",
     "text": [
      "This is an instance variable\n",
      "This is an instance variable\n",
      "Updated instance variable\n",
      "This is an instance variable\n"
     ]
    }
   ],
   "source": [
    "class MyClass:\n",
    "    def __init__(self):\n",
    "        self.instance_variable = \"This is an instance variable\"\n",
    "\n",
    "obj1 = MyClass()\n",
    "obj2 = MyClass()\n",
    "\n",
    "print(obj1.instance_variable)  # Output: This is an instance variable\n",
    "print(obj2.instance_variable)  # Output: This is an instance variable\n",
    "\n",
    "obj1.instance_variable = \"Updated instance variable\"\n",
    "\n",
    "print(obj1.instance_variable)  # Output: Updated instance variable\n",
    "print(obj2.instance_variable)  # Output: This is an instance variable"
   ]
  },
  {
   "cell_type": "markdown",
   "id": "86ea42a8",
   "metadata": {},
   "source": [
    "Q.6. What is the purpose of the self parameter in Python class methods?\n",
    "\n",
    "Ans.\n",
    "The purpose of the self parameter is to access and manipulate the instance variables and methods within the class. When a class method is called on an instance of a class, the instance is automatically passed as the first argument to the method, which is why self is used as the parameter name. By using self, you can refer to the instance and its attributes within the method.\n",
    "The other key points of self parameter are:\n",
    "\n",
    "Accessing instance variables: With self, you can access and modify instance variables within the class methods. For example, self.variable_name refers to an instance variable, and you can assign values to it or access its value within the method.\n",
    "\n",
    "Calling other methods: self allows you to call other methods within the class. By using self.method_name(), you can invoke other methods and perform necessary actions.\n",
    "\n",
    "Differentiating between instance variables and local variables: Using self distinguishes instance variables from local variables within the method. It clarifies that you are referring to the instance variables specific to the object.\n",
    "\n",
    "Implicitly passed by the interpreter: When you call a class method on an instance, you don't explicitly pass the self argument. The interpreter automatically handles it and passes the instance as the first argument to the method."
   ]
  },
  {
   "cell_type": "markdown",
   "id": "3725c77d",
   "metadata": {},
   "source": [
    "Q.7. For a library management system, you have to design the \"Book\" class with OOP\n",
    "principles in mind. The “Book” class will have following attributes:\n",
    "\n",
    "a. title: Represents the title of the book\n",
    ".\n",
    "b. author: Represents the author(s) of the book.\n",
    "\n",
    "c. isbn: Represents the ISBN (International Standard Book Number) of the book.\n",
    "\n",
    "d. publication_year: Represents the year of publication of the book.\n",
    "\n",
    "e. available_copies: Represents the number of copies available for checkout.\n",
    "\n",
    "The class will also include the following methods:\n",
    "\n",
    "a. check_out(self): Decrements the available copies by one if there are copies\n",
    "available for checkout.\n",
    "\n",
    "b. return_book(self): Increments the available copies by one when a book is\n",
    "returned.\n",
    "\n",
    "c. display_book_info(self): Displays the information about the book, including its\n",
    "attributes and the number of available copies"
   ]
  },
  {
   "cell_type": "code",
   "execution_count": 3,
   "id": "69f031c9",
   "metadata": {},
   "outputs": [
    {
     "name": "stdout",
     "output_type": "stream",
     "text": [
      "Book Information:\n",
      "Title: Python Crash Course\n",
      "Author(s): Eric Matthes\n",
      "ISBN: 9781593276034\n",
      "Publication Year: 2015\n",
      "Available Copies: 3\n",
      "A copy of Python Crash Course with author Eric Matthes has been checked out\n",
      "A copy of Python Crash Course with author Eric Matthes has been checked out\n",
      "A copy of Python Crash Course with author Eric Matthes has been checked out\n",
      "Book Information:\n",
      "Title: Python Crash Course\n",
      "Author(s): Eric Matthes\n",
      "ISBN: 9781593276034\n",
      "Publication Year: 2015\n",
      "Available Copies: 0\n",
      "The book of title Python Crash Course whose author is Eric Matthes is returned successfully\n",
      "Book Information:\n",
      "Title: Python Crash Course\n",
      "Author(s): Eric Matthes\n",
      "ISBN: 9781593276034\n",
      "Publication Year: 2015\n",
      "Available Copies: 1\n"
     ]
    }
   ],
   "source": [
    "class Book:\n",
    "    def __init__(self, title,author,ISBN,publication_year,available_copies):\n",
    "        self.title = title\n",
    "        self.author= author\n",
    "        self.ISBN=ISBN\n",
    "        self.publication_year= publication_year\n",
    "        self.available_copies=available_copies\n",
    "\n",
    "    def check_out(self):\n",
    "        if self.available_copies>0:\n",
    "            self.available_copies -=1\n",
    "            print(f\"A copy of {self.title} with author {self.author} has been checked out\")\n",
    "        else:\n",
    "            print(f\"No available copies of {self.title} is available\")\n",
    "    \n",
    "    def return_book(self):\n",
    "        self.available_copies+=1\n",
    "        print(f\"The book of title {self.title} whose author is {self.author} is returned successfully\")\n",
    "\n",
    "    def display_book_info(self):\n",
    "        print(\"Book Information:\")\n",
    "        print(f\"Title: {self.title}\")\n",
    "        print(f\"Author(s): {self.author}\")\n",
    "        print(f\"ISBN: {self.ISBN}\")\n",
    "        print(f\"Publication Year: {self.publication_year}\")\n",
    "        print(f\"Available Copies: {self.available_copies}\")\n",
    "\n",
    "book1 = Book(\"Python Crash Course\", \"Eric Matthes\", \"9781593276034\", 2015, 3)\n",
    "\n",
    "book1.display_book_info() \n",
    "\n",
    "book1.check_out()  \n",
    "book1.check_out()  \n",
    "book1.check_out()  \n",
    "\n",
    "book1.display_book_info()  \n",
    "\n",
    "book1.return_book()  \n",
    "\n",
    "book1.display_book_info()  "
   ]
  },
  {
   "cell_type": "markdown",
   "id": "9af8eb5c",
   "metadata": {},
   "source": [
    "Q.8 For a ticket booking system, you have to design the \"Ticket\" class with OOP\n",
    "principles in mind. The “Ticket” class should have the following attributes:\n",
    "\n",
    "a. ticket_id: Represents the unique identifier for the ticket.\n",
    "\n",
    "b. event_name: Represents the name of the event.\n",
    "\n",
    "c. event_date: Represents the date of the event.\n",
    "\n",
    "d. venue: Represents the venue of the event.\n",
    "\n",
    "e. seat_number: Represents the seat number associated with the ticket.\n",
    "\n",
    "f. price: Represents the price of the ticket.\n",
    "\n",
    "g. is_reserved: Represents the reservation status of the ticket.\n",
    "\n",
    "The class also includes the following methods:\n",
    "a. reserve_ticket(self): Marks the ticket as reserved if it is not already reserved.\n",
    "b. cancel_reservation(self): Cancels the reservation of the ticket if it is already\n",
    "reserved.\n",
    "c. display_ticket_info(self): Displays the information about the ticket, including its\n",
    "attributes and reservation status."
   ]
  },
  {
   "cell_type": "code",
   "execution_count": 4,
   "id": "ef7aa6e3",
   "metadata": {},
   "outputs": [
    {
     "name": "stdout",
     "output_type": "stream",
     "text": [
      "Ticket ID: 1\n",
      "Event Name: Pop Night\n",
      "Event Date: 20/07/2023\n",
      "Venue: Jawahar Nagar\n",
      "Seat Number: 23\n",
      "Price: 2000\n",
      "Reservation Status: Not Reserved\n",
      "Ticket reserved successfully.\n",
      "Ticket ID: 1\n",
      "Event Name: Pop Night\n",
      "Event Date: 20/07/2023\n",
      "Venue: Jawahar Nagar\n",
      "Seat Number: 23\n",
      "Price: 2000\n",
      "Reservation Status: Reserved\n",
      "The ticket is cancelled successfully\n",
      "Ticket ID: 1\n",
      "Event Name: Pop Night\n",
      "Event Date: 20/07/2023\n",
      "Venue: Jawahar Nagar\n",
      "Seat Number: 23\n",
      "Price: 2000\n",
      "Reservation Status: Not Reserved\n"
     ]
    }
   ],
   "source": [
    "class Ticket():\n",
    "    def __init__(self,ticket_id,event_name,event_date,venue,seat_number,price):\n",
    "        self.ticket_id=ticket_id\n",
    "        self.event_name=event_name\n",
    "        self.event_date=event_date\n",
    "        self.venue=venue\n",
    "        self.seat_number=seat_number\n",
    "        self.price=price\n",
    "        self.is_reserved=False\n",
    "        \n",
    "    def reserve_ticket(self):\n",
    "        if not self.is_reserved:\n",
    "            self.is_reserved=True\n",
    "            print(\"Ticket reserved successfully.\")\n",
    "        else:\n",
    "            print(\"Ticket is already reserved\")\n",
    "    \n",
    "    def cancel_reservation(self):\n",
    "        if self.is_reserved:\n",
    "            self.is_reserved=False\n",
    "            print(\"The ticket is cancelled successfully\")\n",
    "         \n",
    "        else:\n",
    "            print(\"Ticket is not reserved\")\n",
    "            \n",
    "    def display_ticket_info(self):\n",
    "        print(\"Ticket ID:\", self.ticket_id)\n",
    "        print(\"Event Name:\", self.event_name)\n",
    "        print(\"Event Date:\", self.event_date)\n",
    "        print(\"Venue:\", self.venue)\n",
    "        print(\"Seat Number:\", self.seat_number)\n",
    "        print(\"Price:\", self.price)\n",
    "        print(\"Reservation Status:\", \"Reserved\" if self.is_reserved else \"Not Reserved\")\n",
    "ticket1=Ticket(1,\"Pop Night\",\"20/07/2023\",\"Jawahar Nagar\",23,2000)\n",
    "ticket1.display_ticket_info()\n",
    "ticket1.reserve_ticket()\n",
    "ticket1.display_ticket_info()\n",
    "ticket1.cancel_reservation()\n",
    "ticket1.display_ticket_info()"
   ]
  },
  {
   "cell_type": "markdown",
   "id": "0c80e41e",
   "metadata": {},
   "source": [
    "Q.9 You are creating a shopping cart for an e-commerce website. Using OOP model to\n",
    "the \"ShoppingCart\" functionality the class should contain following attributes and\n",
    "methods:\n",
    "a. items: Represents the list of items in the shopping cart.\n",
    "The class also includes the following methods:\n",
    "a. add_item(self, item): Adds an item to the shopping cart by appending it to the\n",
    "list of items.\n",
    "b. remove_item(self, item): Removes an item from the shopping cart if it exists in\n",
    "the list.\n",
    "c. view_cart(self): Displays the items currently present in the shopping cart.\n",
    "d. clear_cart(self): Clears all items from the shopping cart by reassigning an\n",
    "empty list to the items attribute."
   ]
  },
  {
   "cell_type": "code",
   "execution_count": 9,
   "id": "c8274b9d",
   "metadata": {},
   "outputs": [
    {
     "name": "stdout",
     "output_type": "stream",
     "text": [
      "Item added to the shopping cart \n",
      "Item added to the shopping cart \n",
      "Items are in the shopping cart\n",
      "Power Bank\n",
      "Earphones\n",
      "Item has been removed successfully\n",
      "Items are in the shopping cart\n",
      "Power Bank\n",
      "The cart is cleared\n",
      "shopping cart is empty\n"
     ]
    }
   ],
   "source": [
    "class ShoppingCart():\n",
    "    def __init__(self):\n",
    "        self.items=[ ]\n",
    "     \n",
    "    def add_item(self,item):\n",
    "        self.items.append(item)\n",
    "        print(\"Item added to the shopping cart \")\n",
    "    \n",
    "    def remove_item(self,item):\n",
    "        if item in self.items:\n",
    "            self.items.remove(item)\n",
    "            print(\"Item has been removed successfully\")\n",
    "         \n",
    "        else:\n",
    "            print(\"Item not found in the shopping cart\")\n",
    "            \n",
    "    def view_cart(self):\n",
    "        if self.items:\n",
    "            print(\"Items are in the shopping cart\")\n",
    "            for item in self.items:\n",
    "                print(item)\n",
    "        else:\n",
    "            print(\"shopping cart is empty\")\n",
    "            \n",
    "    def clear_cart(self):\n",
    "        self.items=[ ]\n",
    "        print(\"The cart is cleared\")\n",
    "            \n",
    "cart = ShoppingCart()\n",
    "cart.add_item(\"Power Bank\")\n",
    "cart.add_item(\"Earphones\")\n",
    "cart.view_cart()\n",
    "cart.remove_item(\"Earphones\")\n",
    "cart.view_cart()\n",
    "cart.clear_cart()\n",
    "cart.view_cart()            \n",
    "            \n",
    "        \n",
    "    "
   ]
  },
  {
   "cell_type": "markdown",
   "id": "23ce4d0a",
   "metadata": {},
   "source": [
    "Q.10. Imagine a school management system. You have to design the \"Student\" class using\n",
    "OOP concepts.The “Student” class has the following attributes:\n",
    "\n",
    "a. name: Represents the name of the student.\n",
    "\n",
    "b. age: Represents the age of the student.\n",
    "\n",
    "c. grade: Represents the grade or class of the student.\n",
    "\n",
    "d. student_id: Represents the unique identifier for the student.\n",
    "\n",
    "e. attendance: Represents the attendance record of the student.\n",
    "The class should also include the following methods:\n",
    "\n",
    "a. update_attendance(self, date, status): Updates the attendance record of the\n",
    "student for a given date with the provided status (e.g., present or absent).\n",
    "\n",
    "b. get_attendance(self): Returns the attendance record of the student.\n",
    "\n",
    "c. get_average_attendance(self): Calculates and returns the average\n",
    "attendance percentage of the student based on their attendance record."
   ]
  },
  {
   "cell_type": "code",
   "execution_count": 13,
   "id": "4382d307",
   "metadata": {},
   "outputs": [
    {
     "name": "stdout",
     "output_type": "stream",
     "text": [
      "{'01-07-2023': 'present', '02-07-2023': 'absent', '03-07-2023': 'present', '04-07-2023': 'present'}\n",
      "Average attendance: 75.0%\n"
     ]
    }
   ],
   "source": [
    "class Student:\n",
    "    def __init__(self, name, age, grade, student_id):\n",
    "        self.name = name\n",
    "        self.age = age\n",
    "        self.grade = grade\n",
    "        self.student_id = student_id\n",
    "        self.attendance = {}\n",
    "\n",
    "    def update_attendance(self, date, status):\n",
    "        self.attendance[date] = status\n",
    "\n",
    "    def get_attendance(self):\n",
    "        return self.attendance\n",
    "\n",
    "    def get_average_attendance(self):\n",
    "        total_days = len(self.attendance)\n",
    "        present_days = sum(status == \"present\" for status in self.attendance.values())\n",
    "        if total_days > 0:\n",
    "            average_attendance = (present_days / total_days) * 100\n",
    "        else:\n",
    "            average_attendance = 0\n",
    "        return average_attendance\n",
    "# Create a student object\n",
    "student = Student(\"John Cena\", 16, \"12th Grade\", \"R123\")\n",
    "\n",
    "# Update attendance\n",
    "student.update_attendance(\"01-07-2023\", \"present\")\n",
    "student.update_attendance(\"02-07-2023\", \"absent\")\n",
    "student.update_attendance(\"03-07-2023\", \"present\")\n",
    "student.update_attendance(\"04-07-2023\", \"present\")\n",
    "\n",
    "# Get attendance record\n",
    "attendance_record = student.get_attendance()\n",
    "print(attendance_record)\n",
    "\n",
    "# Get average attendance\n",
    "average_attendance = student.get_average_attendance()\n",
    "print(f\"Average attendance: {average_attendance}%\")\n",
    "    "
   ]
  }
 ],
 "metadata": {
  "kernelspec": {
   "display_name": "Python 3 (ipykernel)",
   "language": "python",
   "name": "python3"
  },
  "language_info": {
   "codemirror_mode": {
    "name": "ipython",
    "version": 3
   },
   "file_extension": ".py",
   "mimetype": "text/x-python",
   "name": "python",
   "nbconvert_exporter": "python",
   "pygments_lexer": "ipython3",
   "version": "3.10.9"
  }
 },
 "nbformat": 4,
 "nbformat_minor": 5
}
