{
 "cells": [
  {
   "cell_type": "markdown",
   "id": "4f2f43c3",
   "metadata": {},
   "source": [
    "Q1.What are the two values of the Boolean data type? How do you write them?\n",
    "\n",
    "Ans.\n",
    "\n",
    "The two values of boolean data types are:\n",
    "\n",
    "1)True\n",
    "\n",
    "2)False\n",
    "\n",
    "Internally Python represents True as 1 and False as 0\n",
    "\n",
    "For eg:    "
   ]
  },
  {
   "cell_type": "code",
   "execution_count": 1,
   "id": "c22c97d9",
   "metadata": {},
   "outputs": [
    {
     "data": {
      "text/plain": [
       "bool"
      ]
     },
     "execution_count": 1,
     "metadata": {},
     "output_type": "execute_result"
    }
   ],
   "source": [
    "a=True\n",
    "type(a)"
   ]
  },
  {
   "cell_type": "markdown",
   "id": "e2d0db90",
   "metadata": {},
   "source": [
    "Q.2 What are the three different types of Boolean operators?\n",
    "Ans. \n",
    "1)AND operator: The AND operator is represented by the keyword and. It returns True if both the operands are True;              otherwise, it returns False.For eg:"
   ]
  },
  {
   "cell_type": "code",
   "execution_count": 2,
   "id": "486e9363",
   "metadata": {},
   "outputs": [
    {
     "name": "stdout",
     "output_type": "stream",
     "text": [
      "Both conditions are True.\n"
     ]
    }
   ],
   "source": [
    "x = 5\n",
    "y = 10\n",
    "z = 15\n",
    "\n",
    "if x < y and y < z:\n",
    "    print(\"Both conditions are True.\")\n"
   ]
  },
  {
   "cell_type": "markdown",
   "id": "a5d2ff65",
   "metadata": {},
   "source": [
    "2)OR operator: The OR operator is represented by the keyword or. It returns True if at least one of the operands is True;     otherwise, it returns False.For eg:"
   ]
  },
  {
   "cell_type": "code",
   "execution_count": 3,
   "id": "fb45b22d",
   "metadata": {},
   "outputs": [
    {
     "name": "stdout",
     "output_type": "stream",
     "text": [
      "At least one condition is True\n"
     ]
    }
   ],
   "source": [
    "x = 5\n",
    "y = 10\n",
    "z = 15\n",
    "\n",
    "if x > y or y < z:\n",
    "    print(\"At least one condition is True\")"
   ]
  },
  {
   "cell_type": "markdown",
   "id": "c5361d54",
   "metadata": {},
   "source": [
    "3)NOT operator: The NOT operator is represented by the keyword not. It returns the opposite Boolean value of the operand. If    the operand is True, the NOT operator returns False, and vice versa.For eg:"
   ]
  },
  {
   "cell_type": "code",
   "execution_count": 4,
   "id": "a47f0377",
   "metadata": {},
   "outputs": [],
   "source": [
    "x = True\n",
    "\n",
    "if not x:\n",
    "    print(\"x is False\")"
   ]
  },
  {
   "cell_type": "markdown",
   "id": "b7eb6dcb",
   "metadata": {},
   "source": [
    "Q.3 Make a list of each Boolean operator's truth tables (i.e. every possible combination of Boolean values for the operator and  what it evaluate ).\n",
    "Ans.\n",
    "\n",
    "1)AND operator truth table:\n",
    "\n",
    "Operand1     Operand2         Result\n",
    "\n",
    "True\t       True\t          True\n",
    "\n",
    "True\t       False\t      False\n",
    "\n",
    "False\t       True\t          False\n",
    "\n",
    "False\t       False\t      False\n",
    "\n",
    "2)OR operator truth table:\n",
    "\n",
    "Operand1   Operand2      Result\n",
    "\n",
    "True            True        True\n",
    "\n",
    "True            False       True\n",
    "\n",
    "False           True        True\n",
    "\n",
    "False           False       False\n",
    "\n",
    "3)NOT operator truth table:\n",
    "\n",
    "Operand       Result\n",
    "\n",
    "True           False\n",
    "\n",
    "False          True"
   ]
  },
  {
   "cell_type": "markdown",
   "id": "35e9c240",
   "metadata": {},
   "source": [
    "Q.4 What are the values of the following expressions?\n",
    "\n",
    "(5 > 4) and (3 == 5)= False\n",
    "\n",
    "not (5 > 4)=False\n",
    "\n",
    "(5 > 4) or (3 == 5)=True\n",
    "\n",
    "not ((5 > 4) or (3 == 5))=False\n",
    "\n",
    "(True and True) and (True == False)=False\n",
    "\n",
    "(not False) or (not True)=True\n"
   ]
  },
  {
   "cell_type": "markdown",
   "id": "abdb6ce8",
   "metadata": {},
   "source": [
    "Q.5 What are the six comparison operators?\n",
    "\n",
    "Ans.\n",
    "\n",
    "1.Less than (<)\n",
    "\n",
    "2.Greater than (>)\n",
    "\n",
    "3.Less than or equal to (<=)\n",
    "\n",
    "4.Greater than or equal to (>=)\n",
    "\n",
    "5.Equal to (==)\n",
    "\n",
    "6.Not equal to (!=)"
   ]
  },
  {
   "cell_type": "markdown",
   "id": "ee2c7e06",
   "metadata": {},
   "source": [
    "Q.6. How do you tell the difference between the equal to and assignment operators?Describe a condition and when you would use        one.\n",
    "\n",
    "Ans.\n",
    "\n",
    "\"=\" is a assignment operator and is used to assign a value to a variable.\n",
    "\n",
    "Example: a=2 # the value of a is 2\n",
    "\n",
    "whereas \"==\" is Comparison operator and is used to check whether 2 expressions give the same value .Equality check returns true\n",
    "\n",
    "if it succeeds and else return false.\n",
    "\n",
    "Example: a=2 b=3 c=2 \n",
    "\n",
    "a==b (#false because 2 is not equal to 3) \n",
    "\n",
    "a==c (#true because 2 is equal to 2)"
   ]
  },
  {
   "cell_type": "markdown",
   "id": "c293fc36",
   "metadata": {},
   "source": [
    "Q.7. Identify the three blocks in this code:\n",
    "\n",
    "spam = 0\n",
    "\n",
    "if spam == 10:   Block1\n",
    "    print('eggs')Block1\n",
    "    \n",
    "if spam > 5:\n",
    "    print('bacon')Block2\n",
    "    \n",
    "else:\n",
    "    print('ham') Block3 \n",
    "    print('spam')Block3\n",
    "    print('spam')Block3\n"
   ]
  },
  {
   "cell_type": "markdown",
   "id": "7c56942f",
   "metadata": {},
   "source": [
    "Q.8. Write code that prints Hello if 1 is stored in spam, prints Howdy if 2 is stored in spam,\n",
    "     and prints Greetings! if anything else is stored in spam."
   ]
  },
  {
   "cell_type": "code",
   "execution_count": null,
   "id": "acc21979",
   "metadata": {},
   "outputs": [],
   "source": [
    "#Ans.\n",
    "spam=int(input(\"Enter a no: \"))\n",
    "if spam==1:\n",
    "         print(\"Hello\")\n",
    "elif spam==2:\n",
    "         print(\"Howdy\")\n",
    "else:\n",
    "         print(\"Greetings!\")"
   ]
  },
  {
   "cell_type": "markdown",
   "id": "425a191e",
   "metadata": {},
   "source": [
    "Q.9.If your programme is stuck in an endless loop, what keys you’ll press?\n",
    "Ans. Ctrl+C\n"
   ]
  },
  {
   "cell_type": "markdown",
   "id": "f5f727f4",
   "metadata": {},
   "source": [
    "Q.10. How can you tell the difference between break and continue?\n",
    "\n",
    "Ans.  \n",
    "In Python, break and continue are both flow control statements used in loops (such as for and while loops) to modify the \n",
    "\n",
    "loop's behavior. However, they serve different purposes:\n",
    "\n",
    "break: The break statement is used to terminate the loop prematurely. When encountered, it immediately exits the loop and\n",
    "\n",
    "continues with the next statement following the loop. The remaining iterations of the loop are skipped entirely. This means \n",
    "\n",
    "that the loop terminates before completing all its iterations.\n",
    "\n",
    "for eg:"
   ]
  },
  {
   "cell_type": "code",
   "execution_count": 11,
   "id": "6673b4f3",
   "metadata": {},
   "outputs": [
    {
     "name": "stdout",
     "output_type": "stream",
     "text": [
      "1\n",
      "2\n"
     ]
    }
   ],
   "source": [
    "for i in range(1, 6):\n",
    "    if i == 3:\n",
    "        break\n",
    "    print(i)"
   ]
  },
  {
   "cell_type": "markdown",
   "id": "3709b975",
   "metadata": {},
   "source": [
    "In this example, the loop terminates when i becomes 3 because the break statement is encountered. The numbers 1 and 2 are printed, but the loop stops before reaching the number 3.\n",
    "\n",
    "continue: The continue statement is used to skip the remaining code within the loop for the current iteration and move to the next iteration. It allows you to bypass specific iterations without terminating the entire loop. When continue is encountered, the loop jumps back to the beginning for the next iteration.\n",
    "for eg:"
   ]
  },
  {
   "cell_type": "code",
   "execution_count": 12,
   "id": "711c8af2",
   "metadata": {},
   "outputs": [
    {
     "name": "stdout",
     "output_type": "stream",
     "text": [
      "1\n",
      "2\n",
      "4\n",
      "5\n"
     ]
    }
   ],
   "source": [
    "for i in range(1, 6):\n",
    "    if i == 3:\n",
    "        continue\n",
    "    print(i)"
   ]
  },
  {
   "cell_type": "markdown",
   "id": "c5add2a6",
   "metadata": {},
   "source": [
    "In this example, when i becomes 3, the continue statement is encountered, and the remaining code within the loop for that iteration is skipped. The loop then proceeds to the next iteration and continues until all iterations are completed, printing numbers 1, 2, 4, and 5."
   ]
  },
  {
   "cell_type": "markdown",
   "id": "af140efc",
   "metadata": {},
   "source": [
    "Q.11. In a for loop, what is the difference between range(10), range(0, 10), and range(0, 10, 1)?\n",
    "\n",
    "Ans. \n",
    "1.range(10) will iterate over the numbers from 0 to 9, inclusive.\n",
    "\n",
    "2.range(0, 10) will iterate over the numbers from 0 to 9, exclusive.\n",
    "\n",
    "3.range(0, 10, 1) will iterate over the numbers from 0 to 9, inclusive, with a step size of 1.\n",
    "\n",
    "for eg:"
   ]
  },
  {
   "cell_type": "code",
   "execution_count": 6,
   "id": "1092e3d0",
   "metadata": {},
   "outputs": [
    {
     "name": "stdout",
     "output_type": "stream",
     "text": [
      "0\n",
      "1\n",
      "2\n",
      "3\n",
      "4\n",
      "5\n",
      "6\n",
      "7\n",
      "8\n",
      "9\n"
     ]
    }
   ],
   "source": [
    "#1\n",
    "for i in range(10):\n",
    "  print(i)"
   ]
  },
  {
   "cell_type": "code",
   "execution_count": 7,
   "id": "b021e83a",
   "metadata": {},
   "outputs": [
    {
     "name": "stdout",
     "output_type": "stream",
     "text": [
      "0\n",
      "1\n",
      "2\n",
      "3\n",
      "4\n",
      "5\n",
      "6\n",
      "7\n",
      "8\n",
      "9\n"
     ]
    }
   ],
   "source": [
    "#2\n",
    "for i in range(0, 10):\n",
    "  print(i)"
   ]
  },
  {
   "cell_type": "code",
   "execution_count": 8,
   "id": "9457dc33",
   "metadata": {},
   "outputs": [
    {
     "name": "stdout",
     "output_type": "stream",
     "text": [
      "0\n",
      "1\n",
      "2\n",
      "3\n",
      "4\n",
      "5\n",
      "6\n",
      "7\n",
      "8\n",
      "9\n"
     ]
    }
   ],
   "source": [
    "#3\n",
    "for i in range(0,10,1):\n",
    "    print(i)"
   ]
  },
  {
   "cell_type": "markdown",
   "id": "267e46bd",
   "metadata": {},
   "source": [
    "Q.12.Write a short program that prints the numbers 1 to 10 using a for loop.\n",
    "Then write an equivalent program that prints the numbers 1 to 10 using a while loop.\n",
    "Ans "
   ]
  },
  {
   "cell_type": "code",
   "execution_count": 9,
   "id": "b795d4f3",
   "metadata": {},
   "outputs": [
    {
     "name": "stdout",
     "output_type": "stream",
     "text": [
      "1\n",
      "2\n",
      "3\n",
      "4\n",
      "5\n",
      "6\n",
      "7\n",
      "8\n",
      "9\n",
      "10\n"
     ]
    }
   ],
   "source": [
    "for i in range(1,11):\n",
    "    print(i)"
   ]
  },
  {
   "cell_type": "code",
   "execution_count": 10,
   "id": "d77a029a",
   "metadata": {},
   "outputs": [
    {
     "name": "stdout",
     "output_type": "stream",
     "text": [
      "1\n",
      "2\n",
      "3\n",
      "4\n",
      "5\n",
      "6\n",
      "7\n",
      "8\n",
      "9\n",
      "10\n"
     ]
    }
   ],
   "source": [
    "count=1\n",
    "while count<=10:\n",
    "    print(count)\n",
    "    count+=1"
   ]
  },
  {
   "cell_type": "markdown",
   "id": "6125616a",
   "metadata": {},
   "source": [
    "Q.13. If you had a function named bacon() inside a module named spam, how would you call it after importing spam?\n",
    "\n",
    "Ans.\n",
    "\n",
    "import spam\n",
    "\n",
    "spam.bacon()\n"
   ]
  }
 ],
 "metadata": {
  "kernelspec": {
   "display_name": "Python 3 (ipykernel)",
   "language": "python",
   "name": "python3"
  },
  "language_info": {
   "codemirror_mode": {
    "name": "ipython",
    "version": 3
   },
   "file_extension": ".py",
   "mimetype": "text/x-python",
   "name": "python",
   "nbconvert_exporter": "python",
   "pygments_lexer": "ipython3",
   "version": "3.10.9"
  }
 },
 "nbformat": 4,
 "nbformat_minor": 5
}
